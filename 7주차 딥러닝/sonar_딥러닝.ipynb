{
 "metadata": {
  "language_info": {
   "codemirror_mode": {
    "name": "ipython",
    "version": 3
   },
   "file_extension": ".py",
   "mimetype": "text/x-python",
   "name": "python",
   "nbconvert_exporter": "python",
   "pygments_lexer": "ipython3",
   "version": 3
  },
  "orig_nbformat": 2
 },
 "nbformat": 4,
 "nbformat_minor": 2,
 "cells": [
  {
   "cell_type": "code",
   "execution_count": null,
   "metadata": {},
   "outputs": [],
   "source": [
    "import os\n",
    "import sys\n",
    "\n",
    "import matplotlib.pyplot as plt\n",
    "import numpy\n",
    "import tensorflow as tf\n",
    "from tf.keras.callbacks import ModelCheckpoint, EarlyStopping\n",
    "from tf.keras.datasets import mnist\n",
    "from tf.keras.layers import Dense, Dropout, Flatten, Conv2D, MaxPooling2D\n",
    "from tf.keras.models import Sequential\n"
   ]
  }
 ]
}
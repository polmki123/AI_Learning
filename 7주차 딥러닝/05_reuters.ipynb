{
 "cells": [
  {
   "cell_type": "code",
   "execution_count": 2,
   "metadata": {},
   "outputs": [],
   "source": [
    "import matplotlib.pyplot as plt\n",
    "import numpy\n",
    "import tensorflow as tf\n",
    "# 로이터 뉴스 데이터셋 불러오기\n",
    "from tensorflow.keras.datasets import reuters\n",
    "from tensorflow.keras.layers import Dense, LSTM, Embedding\n",
    "from tensorflow.keras.models import Sequential\n",
    "from tensorflow.keras.preprocessing import sequence\n",
    "\n",
    "numpy.random.seed(3)\n",
    "tf.random.set_seed(3)"
   ]
  },
  {
   "cell_type": "code",
   "execution_count": 3,
   "metadata": {},
   "outputs": [
    {
     "output_type": "stream",
     "name": "stdout",
     "text": [
      "카테고리: 46\n학습용: 8982\n테스트용: 2246\n[1, 2, 2, 8, 43, 10, 447, 5, 25, 207, 270, 5, 2, 111, 16, 369, 186, 90, 67, 7, 89, 5, 19, 102, 6, 19, 124, 15, 90, 67, 84, 22, 482, 26, 7, 48, 4, 49, 8, 864, 39, 209, 154, 6, 151, 6, 83, 11, 15, 22, 155, 11, 15, 7, 48, 9, 2, 2, 504, 6, 258, 6, 272, 11, 15, 22, 134, 44, 11, 15, 16, 8, 197, 2, 90, 67, 52, 29, 209, 30, 32, 132, 6, 109, 15, 17, 12]\n"
     ]
    }
   ],
   "source": [
    "def loadData():\n",
    "    # 불러온 데이터를 학습셋, 테스트셋으로 나누기\n",
    "    (X_train, Y_train), (X_test, Y_test) = reuters.load_data(num_words=1000, test_split=0.2)\n",
    "\n",
    "    # 데이터 확인하기\n",
    "    category = numpy.max(Y_train) + 1\n",
    "    print('카테고리: {}'.format(category))\n",
    "    print('학습용: {}'.format(len(X_train)))\n",
    "    print('테스트용: {}'.format(len(X_test)))\n",
    "    print(X_train[0])\n",
    "    return (X_train, Y_train), (X_test, Y_test)\n",
    "\n",
    "(X_train, Y_train), (X_test, Y_test) = loadData()"
   ]
  },
  {
   "cell_type": "code",
   "execution_count": 4,
   "metadata": {},
   "outputs": [
    {
     "output_type": "stream",
     "name": "stdout",
     "text": [
      "[  0   0   0   0   0   0   0   0   0   0   0   0   0   1   2   2   8  43\n  10 447   5  25 207 270   5   2 111  16 369 186  90  67   7  89   5  19\n 102   6  19 124  15  90  67  84  22 482  26   7  48   4  49   8 864  39\n 209 154   6 151   6  83  11  15  22 155  11  15   7  48   9   2   2 504\n   6 258   6 272  11  15  22 134  44  11  15  16   8 197   2  90  67  52\n  29 209  30  32 132   6 109  15  17  12]\n[  5   2   7 748  48   9   2   7 207   2 966   2 793  97 133 336   7   4\n 493  98 273 104 284  25  39 338  22 905 220   2 644  59  20   6 119  61\n  11  15  58 579  26  10  67   7   4 738  98  43  88 333 722  12  20   6\n  19 746  35  15  10   9   2 855 129 783  21   4   2 244 364  51  16 299\n 452  16 515   4  99  29   5   4 364 281  48  10   9   2  23 644  47  20\n 324  27  56   2   2   5 192 510  17  12]\n"
     ]
    }
   ],
   "source": [
    "def setXto100(X):\n",
    "    X_padded = sequence.pad_sequences(X, maxlen=100)\n",
    "    return X_padded\n",
    "\n",
    "X_train = setXto100(X_train)\n",
    "X_test  = setXto100(X_test)\n",
    "print(X_train[0])\n",
    "print(X_test[0])"
   ]
  },
  {
   "cell_type": "code",
   "execution_count": 5,
   "metadata": {},
   "outputs": [
    {
     "output_type": "stream",
     "name": "stdout",
     "text": [
      "[[0. 0. 0. 1. 0. 0. 0. 0. 0. 0. 0. 0. 0. 0. 0. 0. 0. 0. 0. 0. 0. 0. 0. 0.\n  0. 0. 0. 0. 0. 0. 0. 0. 0. 0. 0. 0. 0. 0. 0. 0. 0. 0. 0. 0. 0. 0.]]\n[[0. 0. 0. 1. 0. 0. 0. 0. 0. 0. 0. 0. 0. 0. 0. 0. 0. 0. 0. 0. 0. 0. 0. 0.\n  0. 0. 0. 0. 0. 0. 0. 0. 0. 0. 0. 0. 0. 0. 0. 0. 0. 0. 0. 0. 0. 0.]]\n"
     ]
    }
   ],
   "source": [
    "def getOneHotEncodedLabel(y):\n",
    "    Y_encoded = tf.keras.utils.to_categorical(y)\n",
    "    return Y_encoded\n",
    "\n",
    "Y_train = getOneHotEncodedLabel(Y_train)\n",
    "Y_test  = getOneHotEncodedLabel(Y_test)\n",
    "print(Y_train[:1])\n",
    "print(Y_test[:1])"
   ]
  },
  {
   "cell_type": "code",
   "execution_count": 6,
   "metadata": {},
   "outputs": [
    {
     "output_type": "stream",
     "name": "stdout",
     "text": [
      "(8982, 100)\n(8982, 46)\n"
     ]
    }
   ],
   "source": [
    "print(X_train.shape)\n",
    "print(Y_train.shape)"
   ]
  },
  {
   "cell_type": "code",
   "execution_count": 7,
   "metadata": {},
   "outputs": [],
   "source": [
    "def createLSTMModel():\n",
    "    model = Sequential()\n",
    "    model.add(Embedding(1000, 100))\n",
    "    model.add(LSTM(100, activation='tanh'))\n",
    "    model.add(Dense(46, activation='softmax'))\n",
    "    return model\n",
    "\n",
    "model = createLSTMModel()\n",
    "model.reset_metrics()"
   ]
  },
  {
   "cell_type": "code",
   "execution_count": 8,
   "metadata": {},
   "outputs": [
    {
     "output_type": "stream",
     "name": "stdout",
     "text": [
      "Epoch 1/20\n",
      "71/71 [==============================] - 3s 46ms/step - loss: 2.6572 - accuracy: 0.3358 - val_loss: 2.4025 - val_accuracy: 0.3620\n",
      "Epoch 2/20\n",
      "71/71 [==============================] - 2s 34ms/step - loss: 2.1459 - accuracy: 0.4555 - val_loss: 2.0113 - val_accuracy: 0.5036\n",
      "Epoch 3/20\n",
      "71/71 [==============================] - 2s 35ms/step - loss: 1.9932 - accuracy: 0.5016 - val_loss: 1.9868 - val_accuracy: 0.5098\n",
      "Epoch 4/20\n",
      "71/71 [==============================] - 3s 35ms/step - loss: 1.8653 - accuracy: 0.5267 - val_loss: 1.7929 - val_accuracy: 0.5503\n",
      "Epoch 5/20\n",
      "71/71 [==============================] - 3s 35ms/step - loss: 1.7334 - accuracy: 0.5502 - val_loss: 1.7181 - val_accuracy: 0.5552\n",
      "Epoch 6/20\n",
      "71/71 [==============================] - 3s 35ms/step - loss: 1.6598 - accuracy: 0.5736 - val_loss: 1.6638 - val_accuracy: 0.5824\n",
      "Epoch 7/20\n",
      "71/71 [==============================] - 2s 35ms/step - loss: 1.6669 - accuracy: 0.5729 - val_loss: 1.6660 - val_accuracy: 0.5793\n",
      "Epoch 8/20\n",
      "71/71 [==============================] - 2s 34ms/step - loss: 1.5925 - accuracy: 0.5940 - val_loss: 1.6097 - val_accuracy: 0.5939\n",
      "Epoch 9/20\n",
      "71/71 [==============================] - 2s 34ms/step - loss: 1.5128 - accuracy: 0.6202 - val_loss: 1.5754 - val_accuracy: 0.6153\n",
      "Epoch 10/20\n",
      "71/71 [==============================] - 2s 35ms/step - loss: 1.4478 - accuracy: 0.6401 - val_loss: 1.4854 - val_accuracy: 0.6340\n",
      "Epoch 11/20\n",
      "71/71 [==============================] - 3s 35ms/step - loss: 1.3586 - accuracy: 0.6629 - val_loss: 1.4376 - val_accuracy: 0.6425\n",
      "Epoch 12/20\n",
      "71/71 [==============================] - 2s 34ms/step - loss: 1.2837 - accuracy: 0.6792 - val_loss: 1.4207 - val_accuracy: 0.6478\n",
      "Epoch 13/20\n",
      "71/71 [==============================] - 2s 35ms/step - loss: 1.2429 - accuracy: 0.6887 - val_loss: 1.3886 - val_accuracy: 0.6460\n",
      "Epoch 14/20\n",
      "71/71 [==============================] - 2s 35ms/step - loss: 1.1749 - accuracy: 0.7008 - val_loss: 1.3636 - val_accuracy: 0.6652\n",
      "Epoch 15/20\n",
      "71/71 [==============================] - 2s 34ms/step - loss: 1.1383 - accuracy: 0.7105 - val_loss: 1.2920 - val_accuracy: 0.6870\n",
      "Epoch 16/20\n",
      "71/71 [==============================] - 2s 34ms/step - loss: 1.0854 - accuracy: 0.7236 - val_loss: 1.3172 - val_accuracy: 0.6656\n",
      "Epoch 17/20\n",
      "71/71 [==============================] - 3s 35ms/step - loss: 1.0542 - accuracy: 0.7317 - val_loss: 1.2745 - val_accuracy: 0.6794\n",
      "Epoch 18/20\n",
      "71/71 [==============================] - 2s 34ms/step - loss: 1.0184 - accuracy: 0.7394 - val_loss: 1.2555 - val_accuracy: 0.6883\n",
      "Epoch 19/20\n",
      "71/71 [==============================] - 2s 34ms/step - loss: 1.0081 - accuracy: 0.7437 - val_loss: 1.2876 - val_accuracy: 0.6745\n",
      "Epoch 20/20\n",
      "71/71 [==============================] - 2s 34ms/step - loss: 0.9705 - accuracy: 0.7477 - val_loss: 1.2730 - val_accuracy: 0.6834\n"
     ]
    }
   ],
   "source": [
    "def trainModel(model, x_train, y_train, x_test, y_test):\n",
    "    model.compile(loss='categorical_crossentropy',\n",
    "                optimizer='adam',\n",
    "                metrics=['accuracy'])\n",
    "\n",
    "    # 모델의 실행\n",
    "    history = model.fit(x_train, y_train, batch_size=128, epochs=20, validation_data=(x_test, y_test))\n",
    "\n",
    "    return model, history\n",
    "\n",
    "trained_Model, history = trainModel(model, X_train, Y_train, X_test, Y_test )"
   ]
  },
  {
   "cell_type": "code",
   "execution_count": null,
   "metadata": {},
   "outputs": [],
   "source": [
    "def drawLossChart(history):\n",
    "    # 테스트 셋의 오차\n",
    "    y_vloss = history.history['val_loss']\n",
    "\n",
    "    # 학습셋의 오차\n",
    "    y_loss = history.history['loss']\n",
    "\n",
    "    # 그래프로 표현\n",
    "    x_len = numpy.arange(len(y_loss))\n",
    "    plt.plot(x_len, y_vloss, marker='.', c=\"red\", label='Testset_loss')\n",
    "    plt.plot(x_len, y_loss, marker='.', c=\"blue\", label='Trainset_loss')\n",
    "\n",
    "    # 그래프에 그리드를 주고 레이블을 표시\n",
    "    plt.legend(loc='upper right')\n",
    "    plt.grid()\n",
    "    plt.xlabel('epoch')\n",
    "    plt.ylabel('loss')\n",
    "    plt.show()\n",
    "\n"
   ]
  },
  {
   "cell_type": "code",
   "execution_count": null,
   "metadata": {},
   "outputs": [],
   "source": [
    "(X_train, Y_train), (X_test, Y_test) = loadData()\n",
    "x_train = setXto100(X_train)\n",
    "x_test = setXto100(X_test)\n",
    "y_train= getOneHotEncodedLabel(Y_train)\n",
    "y_test = getOneHotEncodedLabel(Y_test)\n",
    "model = createLSTMModel()\n",
    "trained_model, history = trainModel(model, x_train, y_train, x_test, y_test)\n",
    "\n",
    "# 테스트 정확도 출력\n",
    "print(\"\\n Test Accuracy: %.4f\" % (model.evaluate(x_test, y_test)[1]))\n",
    "\n",
    "drawLossChart(history)"
   ]
  }
 ],
 "metadata": {
  "kernelspec": {
   "name": "Python 3.7.9 64-bit ('Rich': conda)",
   "display_name": "Python 3.7.9 64-bit ('Rich': conda)",
   "metadata": {
    "interpreter": {
     "hash": "016e0e5fd05a6e661b7c17010e2a84554a8c2fa30a97bde1e1205b573bab6161"
    }
   }
  },
  "language_info": {
   "codemirror_mode": {
    "name": "ipython",
    "version": 3
   },
   "file_extension": ".py",
   "mimetype": "text/x-python",
   "name": "python",
   "nbconvert_exporter": "python",
   "pygments_lexer": "ipython3",
   "version": "3.7.9-final"
  },
  "toc": {
   "base_numbering": 1,
   "nav_menu": {},
   "number_sections": false,
   "sideBar": true,
   "skip_h1_title": false,
   "title_cell": "Table of Contents",
   "title_sidebar": "Contents",
   "toc_cell": false,
   "toc_position": {},
   "toc_section_display": true,
   "toc_window_display": false
  }
 },
 "nbformat": 4,
 "nbformat_minor": 4
}
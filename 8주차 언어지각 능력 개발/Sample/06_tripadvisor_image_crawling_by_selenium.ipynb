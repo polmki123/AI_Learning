{
 "cells": [
  {
   "cell_type": "markdown",
   "metadata": {},
   "source": [
    "# selenium을 활용\n",
    "\n",
    "* selenium: 동적으로 화면을 업데이트\n",
    "* 크롬창을 직접 오픈해서 html 페이지를 받아옴"
   ]
  },
  {
   "cell_type": "code",
   "execution_count": 1,
   "metadata": {},
   "outputs": [],
   "source": [
    "# (실습3) 이미지\n",
    "from bs4 import BeautifulSoup\n",
    "import requests\n",
    "import pandas as pd\n",
    "from selenium import webdriver\n",
    "from selenium.webdriver.chrome.options import Options\n",
    "import time\n",
    "import os"
   ]
  },
  {
   "cell_type": "code",
   "execution_count": 2,
   "metadata": {},
   "outputs": [],
   "source": [
    "# 크롤링할 웹 사이트 정보\n",
    "base_url = 'https://www.tripadvisor.co.kr'\n",
    "seoul_url = '/Restaurants-g294197-Seoul.html'"
   ]
  },
  {
   "cell_type": "code",
   "execution_count": 13,
   "metadata": {},
   "outputs": [],
   "source": [
    "# get html\n",
    "\n",
    "## 크롬창을 직접\n",
    "options = Options()\n",
    "# options.headless = True\n",
    "# browser = webdriver.Chrome(options=options, executable_path='C:\\chromedriver_win32\\chromedriver')\n",
    "browser = webdriver.Chrome( executable_path='C:\\Program Files\\Chromedriver\\chromedriver')\n",
    "browser.implicitly_wait(3)\n",
    "browser.get(base_url+seoul_url)\n",
    "time.sleep(5)\n",
    "# BeautifulSoup을 활용하여 데이터 파싱\n",
    "html = browser.page_source\n",
    "soup = BeautifulSoup(html, 'html.parser')"
   ]
  },
  {
   "cell_type": "code",
   "execution_count": 14,
   "metadata": {},
   "outputs": [
    {
     "output_type": "stream",
     "name": "stdout",
     "text": [
      "[<div class=\"_2Hb-Mt7l\" style='background-image: url(\"https://media-cdn.tripadvisor.com/media/photo-s/12/6f/eb/03/paolodemaria.jpg\");'></div>, <div class=\"_2Hb-Mt7l\" style='background-image: url(\"https://media-cdn.tripadvisor.com/media/photo-s/12/6f/ec/eb/tagliere-formaggi-e-affettati.jpg\");'></div>, <div class=\"_2Hb-Mt7l\" style='background-image: url(\"https://media-cdn.tripadvisor.com/media/photo-s/15/0f/ad/6b/caption.jpg\");'></div>, <div class=\"_2Hb-Mt7l\" style='background-image: url(\"https://media-cdn.tripadvisor.com/media/photo-s/19/f6/82/eb/patisserie-by-the-entrance.jpg\");'></div>, <div class=\"_2Hb-Mt7l\" style='background-image: url(\"https://media-cdn.tripadvisor.com/media/photo-s/0d/54/46/d9/interior.jpg\");'><span><div class=\"_1iuZ-Vmo\"><span class=\"_2h6SGM58\"><svg class=\"_2HBN-k68 _2JndpOur\" height=\"1em\" viewbox=\"0 0 24 24\" width=\"1em\"><path d=\"M12 2C6.4 2 2 6.5 2 12s4.5 10 10 10 10-4.5 10-10S17.5 2 12 2zm0 18c-4.4 0-8-3.6-8-8s3.6-8 8-8 8 3.6 8 8-3.6 8-8 8z\"></path><path d=\"M15.9 11.8l-5.4-3.1c-.2-.1-.5 0-.5.3v6.1c0 .2.3.4.5.301l5.4-3.101c.2-.1.2-.4 0-.5z\"></path></svg></span></div></span></div>, <div class=\"_2Hb-Mt7l\" style='background-image: url(\"https://media-cdn.tripadvisor.com/media/photo-s/04/9f/99/5a/gusto-taco.jpg\");'></div>, <div class=\"_2Hb-Mt7l\" style='background-image: url(\"https://media-cdn.tripadvisor.com/media/photo-f/0e/62/4e/29/caption.jpg\");'></div>, <div class=\"_2Hb-Mt7l\" style='background-image: url(\"https://media-cdn.tripadvisor.com/media/photo-f/0e/62/4e/43/caption.jpg\");'></div>, <div class=\"_2Hb-Mt7l\" style='background-image: url(\"https://media-cdn.tripadvisor.com/media/photo-s/15/72/0b/1b/moksal-pork-blade-shoulder.jpg\");'></div>, <div class=\"_2Hb-Mt7l\" style='background-image: url(\"https://media-cdn.tripadvisor.com/media/photo-s/14/74/aa/87/853.jpg\");'></div>, <div class=\"_2Hb-Mt7l\" style='background-image: url(\"https://media-cdn.tripadvisor.com/media/photo-f/19/4f/b5/d0/our-big-herring-platter.jpg\");'></div>, <div class=\"_2Hb-Mt7l\" style='background-image: url(\"https://media-cdn.tripadvisor.com/media/photo-s/11/58/35/80/herring-skagenrora-swedish.jpg\");'></div>, <div class=\"_2Hb-Mt7l\" style='background-image: url(\"https://media-cdn.tripadvisor.com/media/photo-s/1b/ed/50/42/ohbeut-menu.jpg\");'></div>, <div class=\"_2Hb-Mt7l\" style='background-image: url(\"https://media-cdn.tripadvisor.com/media/photo-s/1b/ed/50/3f/ohbeut-menu.jpg\");'></div>, <div class=\"_2Hb-Mt7l\" style='background-image: url(\"https://media-cdn.tripadvisor.com/media/photo-s/0f/c7/2a/a0/caption.jpg\");'></div>, <div class=\"_2Hb-Mt7l\" style='background-image: url(\"https://media-cdn.tripadvisor.com/media/photo-s/10/1e/fd/2d/panoraminc-view-from.jpg\");'></div>, <div class=\"_2Hb-Mt7l\" style='background-image: url(\"https://media-cdn.tripadvisor.com/media/photo-s/17/d2/a9/aa/caption.jpg\");'></div>, <div class=\"_2Hb-Mt7l\" style='background-image: url(\"https://media-cdn.tripadvisor.com/media/photo-o/18/2a/a4/50/bar-hello-everyone-this.jpg\");'></div>, <div class=\"_2Hb-Mt7l\" style='background-image: url(\"https://media-cdn.tripadvisor.com/media/photo-f/0b/08/7e/9e/caption.jpg\");'></div>, <div class=\"_2Hb-Mt7l\" style='background-image: url(\"https://media-cdn.tripadvisor.com/media/photo-f/0b/08/7e/89/caption.jpg\");'></div>, <div class=\"_2Hb-Mt7l\" style='background-image: url(\"https://media-cdn.tripadvisor.com/media/photo-s/19/54/e4/b1/jungsik.jpg\");'></div>, <div class=\"_2Hb-Mt7l\" style='background-image: url(\"https://media-cdn.tripadvisor.com/media/photo-s/10/d2/05/0e/yukhwe-tart.jpg\");'></div>, <div class=\"_2Hb-Mt7l\" style='background-image: url(\"https://media-cdn.tripadvisor.com/media/photo-s/19/f6/ab/f5/caption.jpg\");'></div>, <div class=\"_2Hb-Mt7l\" style='background-image: url(\"https://media-cdn.tripadvisor.com/media/photo-f/15/10/88/b6/caption.jpg\");'></div>, <div class=\"_2Hb-Mt7l\" style='background-image: url(\"https://media-cdn.tripadvisor.com/media/photo-f/11/26/e3/96/caption.jpg\");'></div>, <div class=\"_2Hb-Mt7l\" style='background-image: url(\"https://media-cdn.tripadvisor.com/media/photo-f/10/e9/92/2f/creation-et-gout.jpg\");'></div>, <div class=\"_2Hb-Mt7l\" style='background-image: url(\"https://media-cdn.tripadvisor.com/media/photo-s/17/e1/a5/be/meat-platter.jpg\");'></div>, <div class=\"_2Hb-Mt7l\" style='background-image: url(\"https://media-cdn.tripadvisor.com/media/photo-f/02/4c/09/1f/braai-republic.jpg\");'></div>, <div class=\"_2Hb-Mt7l\" style='background-image: url(\"https://media-cdn.tripadvisor.com/media/photo-f/0f/df/15/38/korean-chicken-platter.jpg\");'></div>, <div class=\"_2Hb-Mt7l\" style='background-image: url(\"https://media-cdn.tripadvisor.com/media/photo-f/1a/2b/3c/c5/side-menu.jpg\");'></div>, <div class=\"_2Hb-Mt7l\" style='background-image: url(\"https://media-cdn.tripadvisor.com/media/photo-f/02/31/7a/7d/caption.jpg\");'></div>, <div class=\"_2Hb-Mt7l\" style='background-image: url(\"https://media-cdn.tripadvisor.com/media/photo-s/05/00/07/25/caption.jpg\");'></div>, <div class=\"_2Hb-Mt7l\" style='background-image: url(\"https://media-cdn.tripadvisor.com/media/photo-f/17/29/d1/b6/tavolo-24.jpg\");'><span><div class=\"_1iuZ-Vmo\"><span class=\"_2h6SGM58\"><svg class=\"_2HBN-k68 _2JndpOur\" height=\"1em\" viewbox=\"0 0 24 24\" width=\"1em\"><path d=\"M12 2C6.4 2 2 6.5 2 12s4.5 10 10 10 10-4.5 10-10S17.5 2 12 2zm0 18c-4.4 0-8-3.6-8-8s3.6-8 8-8 8 3.6 8 8-3.6 8-8 8z\"></path><path d=\"M15.9 11.8l-5.4-3.1c-.2-.1-.5 0-.5.3v6.1c0 .2.3.4.5.301l5.4-3.101c.2-.1.2-.4 0-.5z\"></path></svg></span></div></span></div>, <div class=\"_2Hb-Mt7l\" style='background-image: url(\"https://media-cdn.tripadvisor.com/media/photo-s/09/d6/97/e5/24.jpg\");'></div>, <div class=\"_2Hb-Mt7l\" style='background-image: url(\"https://media-cdn.tripadvisor.com/media/photo-s/0f/3f/75/02/caption.jpg\");'></div>, <div class=\"_2Hb-Mt7l\" style='background-image: url(\"https://media-cdn.tripadvisor.com/media/photo-f/0f/44/e6/42/chowmin.jpg\");'></div>, <div class=\"_2Hb-Mt7l\" style='background-image: url(\"https://media-cdn.tripadvisor.com/media/photo-s/15/f8/5c/cd/caption.jpg\");'></div>, <div class=\"_2Hb-Mt7l\" style='background-image: url(\"https://media-cdn.tripadvisor.com/media/photo-s/1b/50/10/13/photo1jpg.jpg\");'></div>, <div class=\"_2Hb-Mt7l\" style='background-image: url(\"https://media-cdn.tripadvisor.com/media/photo-f/16/41/7f/a7/caption.jpg\");'></div>, <div class=\"_2Hb-Mt7l\" style='background-image: url(\"https://media-cdn.tripadvisor.com/media/photo-f/0d/8d/3a/d5/caption.jpg\");'></div>, <div class=\"_2Hb-Mt7l\" style='background-image: url(\"https://media-cdn.tripadvisor.com/media/photo-f/17/dd/bf/a3/img-20190605-083844-largejpg.jpg\");'></div>, <div class=\"_2Hb-Mt7l\" style='background-image: url(\"https://media-cdn.tripadvisor.com/media/photo-f/03/13/70/53/caption.jpg\");'></div>, <div class=\"_2Hb-Mt7l\" style='background-image: url(\"https://media-cdn.tripadvisor.com/media/photo-s/07/de/42/2a/brooklyn-the-burger-joint.jpg\");'></div>, <div class=\"_2Hb-Mt7l\" style='background-image: url(\"https://media-cdn.tripadvisor.com/media/photo-s/03/dd/b3/ed/brooklyn-the-burger-joint.jpg\");'></div>, <div class=\"_2Hb-Mt7l\" style='background-image: url(\"https://media-cdn.tripadvisor.com/media/photo-s/12/fa/c3/54/photo1jpg.jpg\");'></div>, <div class=\"_2Hb-Mt7l\" style='background-image: url(\"https://media-cdn.tripadvisor.com/media/photo-s/0f/36/2f/55/caption.jpg\");'></div>, <div class=\"_2Hb-Mt7l\" style='background-image: url(\"https://media-cdn.tripadvisor.com/media/daodao/photo-f/0e/57/25/34/xfun-15.jpg\");'></div>, <div class=\"_2Hb-Mt7l\" style='background-image: url(\"https://media-cdn.tripadvisor.com/media/photo-f/02/4e/90/59/caption.jpg\");'></div>, <div class=\"_2Hb-Mt7l\" style='background-image: url(\"https://media-cdn.tripadvisor.com/media/photo-f/14/16/ac/60/img-20180811-wa0018-largejpg.jpg\");'></div>, <div class=\"_2Hb-Mt7l\" style='background-image: url(\"https://media-cdn.tripadvisor.com/media/photo-o/08/0d/48/78/tasting-room.jpg\");'></div>, <div class=\"_2Hb-Mt7l\" style='background-image: url(\"https://media-cdn.tripadvisor.com/media/photo-s/13/0e/20/1c/getlstd-property-photo.jpg\");'></div>, <div class=\"_2Hb-Mt7l\" style='background-image: url(\"https://media-cdn.tripadvisor.com/media/photo-s/18/2d/23/a1/photo4jpg.jpg\");'></div>, <div class=\"_2Hb-Mt7l\" style='background-image: url(\"https://media-cdn.tripadvisor.com/media/photo-s/09/49/07/ab/linus-bama-style-bbq.jpg\");'></div>, <div class=\"_2Hb-Mt7l\" style='background-image: url(\"https://media-cdn.tripadvisor.com/media/photo-f/06/76/d7/d3/linus-bama-style-bbq.jpg\");'></div>, <div class=\"_2Hb-Mt7l\" style='background-image: url(\"https://media-cdn.tripadvisor.com/media/photo-f/0f/65/6d/55/photo2jpg.jpg\");'></div>, <div class=\"_2Hb-Mt7l\" style='background-image: url(\"https://media-cdn.tripadvisor.com/media/photo-s/08/93/25/85/brera.jpg\");'></div>, <div class=\"_2Hb-Mt7l\" style='background-image: url(\"https://media-cdn.tripadvisor.com/media/photo-s/08/23/81/97/caption.jpg\");'></div>, <div class=\"_2Hb-Mt7l\" style='background-image: url(\"https://media-cdn.tripadvisor.com/media/photo-s/06/b6/59/2f/hongdae-dakgalbi.jpg\");'></div>, <div class=\"_2Hb-Mt7l\" style='background-image: url(\"https://media-cdn.tripadvisor.com/media/photo-f/19/79/6d/8d/photo1jpg.jpg\");'></div>, <div class=\"_2Hb-Mt7l\" style='background-image: url(\"https://media-cdn.tripadvisor.com/media/photo-s/0f/3a/a7/35/caption.jpg\");'></div>, <div class=\"_2Hb-Mt7l\" style='background-image: url(\"https://media-cdn.tripadvisor.com/media/photo-s/1a/d0/64/41/caption.jpg\");'></div>, <div class=\"_2Hb-Mt7l\" style='background-image: url(\"https://media-cdn.tripadvisor.com/media/photo-f/1a/d0/64/4b/caption.jpg\");'></div>, <div class=\"_2Hb-Mt7l\" style='background-image: url(\"https://media-cdn.tripadvisor.com/media/daodao/photo-s/17/80/af/52/caption.jpg\");'></div>, <div class=\"_2Hb-Mt7l\" style='background-image: url(\"https://media-cdn.tripadvisor.com/media/photo-s/16/b6/f8/76/photo2jpg.jpg\");'></div>, <div class=\"_2Hb-Mt7l\" style='background-image: url(\"https://media-cdn.tripadvisor.com/media/photo-f/13/09/14/94/18-05-08-14-36-50-179.jpg\");'></div>, <div class=\"_2Hb-Mt7l\" style='background-image: url(\"https://media-cdn.tripadvisor.com/media/photo-s/0e/7a/de/2e/photo0jpg.jpg\");'></div>, <div class=\"_2Hb-Mt7l\" style='background-image: url(\"https://media-cdn.tripadvisor.com/media/photo-f/19/86/22/b6/photo2jpg.jpg\");'></div>, <div class=\"_2Hb-Mt7l\" style='background-image: url(\"https://media-cdn.tripadvisor.com/media/photo-f/0f/32/bc/08/photo3jpg.jpg\");'></div>, <div class=\"_2Hb-Mt7l\" style='background-image: url(\"https://media-cdn.tripadvisor.com/media/photo-f/1a/bd/84/76/some-of-the-food-at-the.jpg\");'></div>, <div class=\"_2Hb-Mt7l\" style='background-image: url(\"https://media-cdn.tripadvisor.com/media/photo-s/0a/a5/d1/10/photo0jpg.jpg\");'></div>, <div class=\"_2Hb-Mt7l\" style='background-image: url(\"https://media-cdn.tripadvisor.com/media/photo-s/14/4c/f0/9d/1220147-largejpg.jpg\");'></div>, <div class=\"_2Hb-Mt7l\" style='background-image: url(\"https://media-cdn.tripadvisor.com/media/photo-s/06/3d/4a/1e/caption.jpg\");'></div>]\n"
     ]
    }
   ],
   "source": [
    "# 이미지\n",
    "photos = soup.findAll('div', {'class' : '_2Hb-Mt7l'})\n",
    "print(photos)"
   ]
  },
  {
   "cell_type": "code",
   "execution_count": 15,
   "metadata": {},
   "outputs": [],
   "source": [
    "img_dir = f\"{os.getcwd()}/img\"\n",
    "if not os.path.isdir(img_dir):\n",
    "   os.mkdir(img_dir)\n",
    "\n",
    "for photo in photos :\n",
    "    url = photo.get('style').split('\"')[1]\n",
    "    img_file_name = url.split('/')[-1]\n",
    "    img_data = requests.get(url).content\n",
    "    with open(f'img/i{img_file_name}', 'wb') as handler:\n",
    "        handler.write(img_data)"
   ]
  },
  {
   "cell_type": "code",
   "execution_count": null,
   "metadata": {},
   "outputs": [],
   "source": [
    "# [실습]\n",
    "\n",
    "#1. 부산 이미지 다운받기\n",
    "#2. 이미지 저장 경로 바꾸기 : busan_img/\n",
    "#3. 이미지 파일명 바꾸기 \n",
    "#       : photo_1.jpg, photo_2.jpg ... 이런 형태"
   ]
  },
  {
   "cell_type": "code",
   "execution_count": 34,
   "metadata": {},
   "outputs": [],
   "source": [
    "busan_url = \"/Hotels-g297884-Busan-Hotels.html\"\n",
    "browser = webdriver.Chrome( executable_path='C:\\Program Files\\Chromedriver\\chromedriver')\n",
    "browser.implicitly_wait(3)\n",
    "browser.get(base_url+busan_url)\n",
    "time.sleep(5)\n",
    "html = browser.page_source\n",
    "soup = BeautifulSoup(html, 'html.parser')"
   ]
  },
  {
   "cell_type": "code",
   "execution_count": 35,
   "metadata": {},
   "outputs": [
    {
     "output_type": "execute_result",
     "data": {
      "text/plain": [
       "ta.kr.s/as.south_korea\",\"custom_targeting\":{\"pos\":[\"rail1\"],\"fluidType\":\"rail\"}},{\"tgt\":\"gpt-ad-300x250-300x600-rail2\",\"size\":[[300,250],[300,600],\"fluid\"],\"type\":\"medium_rectangle_rail2\",\"rubicon_prebid\":true,\"base\":\"/5349/ta.ta.kr.s/as.south_korea\",\"custom_targeting\":{\"pos\":[\"rail2\"],\"fluidType\":\"rail\"}},{\"tgt\":\"gpt-ad-728x90-inline1\",\"size\":[[728,90],\"fluid\"],\"type\":\"leaderboard_inline1\",\"rubicon_prebid\":true,\"base\":\"/5349/ta.ta.kr.s/as.south_korea\",\"custom_targeting\":{\"pos\":[\"inline1\"],\"fluidType\":\"banner\"}},{\"tgt\":\"gpt-ad-728x90-inline2\",\"size\":[[728,90],\"fluid\"],\"type\":\"leaderboard_inline2\",\"rubicon_prebid\":true,\"base\":\"/5349/ta.ta.kr.s/as.south_korea\",\"custom_targeting\":{\"pos\":[\"inline2\"],\"fluidType\":\"banner\"}},{\"tgt\":\"gpt-ad-728x90-inline3\",\"size\":[[728,90],\"fluid\"],\"type\":\"leaderboard_inline3\",\"rubicon_prebid\":true,\"base\":\"/5349/ta.ta.kr.s/as.south_korea\",\"custom_targeting\":{\"pos\":[\"inline3\"],\"fluidType\":\"banner\"}},{\"tgt\":\"gpt-ad-728x90-inline4\",\"size\":[[728,90],\"fluid\"],\"type\":\"leaderboard_inline4\",\"rubicon_prebid\":true,\"base\":\"/5349/ta.ta.kr.s/as.south_korea\",\"custom_targeting\":{\"pos\":[\"inline4\"],\"fluidType\":\"banner\"}},{\"tgt\":\"gpt-ad-728x90-inline5\",\"size\":[[728,90],\"fluid\"],\"type\":\"leaderboard_inline5\",\"rubicon_prebid\":true,\"base\":\"/5349/ta.ta.kr.s/as.south_korea\",\"custom_targeting\":{\"pos\":[\"inline5\"],\"fluidType\":\"banner\"}},{\"tgt\":\"gpt-ad-728x90-inline6\",\"size\":[[728,90],\"fluid\"],\"type\":\"leaderboard_inline6\",\"rubicon_prebid\":true,\"base\":\"/5349/ta.ta.kr.s/as.south_korea\",\"custom_targeting\":{\"pos\":[\"inline6\"],\"fluidType\":\"banner\"}},{\"tgt\":\"gpt-ad-728x90-inline7\",\"size\":[[728,90],\"fluid\"],\"type\":\"leaderboard_inline7\",\"rubicon_prebid\":true,\"base\":\"/5349/ta.ta.kr.s/as.south_korea\",\"custom_targeting\":{\"pos\":[\"inline7\"],\"fluidType\":\"banner\"}},{\"tgt\":\"gpt-ad-728x90-inline8\",\"size\":[[728,90],\"fluid\"],\"type\":\"leaderboard_inline8\",\"rubicon_prebid\":true,\"base\":\"/5349/ta.ta.kr.s/as.south_korea\",\"custom_targeting\":{\"pos\":[\"inline8\"],\"fluidType\":\"banner\"}},{\"tgt\":\"gpt-ad-728x90-inline9\",\"size\":[[728,90],\"fluid\"],\"type\":\"leaderboard_inline9\",\"rubicon_prebid\":true,\"base\":\"/5349/ta.ta.kr.s/as.south_korea\",\"custom_targeting\":{\"pos\":[\"inline9\"],\"fluidType\":\"banner\"}},{\"tgt\":\"gpt-ad-970x250-728x90-footer\",\"size\":[[970,250],[728,90],\"fluid\"],\"type\":\"leaderboard_footer\",\"rubicon_prebid\":true,\"base\":\"/5349/ta.ta.kr.s/as.south_korea\",\"custom_targeting\":{\"pos\":[\"footer\"],\"fluidType\":\"banner\"}}]}};      function getFirstAdTop() {try {  if (!initOpts.gptConfig.enable_deferred_ads) {return 0;}var firstAd;var ads = [].slice.call(document.querySelectorAll('.gptAd, .gptAdVisibleAfterLoad')).filter(function(ad) { return !!ad.offsetParent; });if(ads.length && ads[0].getBoundingClientRect) {return ads.reduce(function(min, el){ return Math.min(min, el.getBoundingClientRect().top);}, Infinity);}} catch(e) {return 0;}}var FIRST_AD_TOP = getFirstAdTop();var initHasRun = false;var apiTrigger = window.innerHeight; function initAtFirstAd(){if (window.pageYOffset > FIRST_AD_TOP - apiTrigger) {window.removeEventListener('scroll', initAtFirstAd);if (!initHasRun) {initHasRun = true;require(['@ta/platform.runtime', 'trjs!cpm/Desktop'], function(runtime, desktopAds) {runtime.importBundle('@ta/platform.consent').then(function (bundle) {bundle.requestConsent(bundle.CategoriesEnum.ADVERTISING, function() {desktopAds.initDoubleClick(initOpts); });});});}}}initAtFirstAd();window.addEventListener('scroll', initAtFirstAd);});</script></div><!-- PLACEMENT ab_chk --><div class=\"ppr_rup ppr_priv_ab_chk\" data-placement-name=\"ab_chk\" id=\"taplc_ab_chk_0\"></div></div><div id=\"singletonRoot\"></div><div class=\"_1HphCM4i\" style=\"position: absolute; top: 321px; left: 16px; bottom: auto; right: auto; z-index: 9991; transform: translateZ(0px); transition: top 500ms ease 0s, bottom 500ms ease 0s, left 500ms ease 0s, right 500ms ease 0s;\"><div class=\"_1uOuyC8x\" data-skip-focus=\"true\" tabindex=\"0\"></div><div><div class=\"zGG8H0c4\"><div class=\"_2fhqm04s _1UHNlqcC\" style=\"left: 119.172px;\"></div><div data-test-target=\"trip-search-open\"><div class=\"_1QS3Z_2v\"><div class=\"_35ok4O0c\">계속하려면 날짜를 선택해주세요<div class=\"_1Qu5JAxf _3HlmJZgm\"><span class=\"_2E6pev1r _2uTDX1vB\"></span> 가장 저렴한 날짜 </div></div><div class=\"Wt4IkH-M\" data-testid=\"day_picker\" lang=\"en\"><div class=\"_1VNxysVD\" tabindex=\"0\"><div class=\"_1wDLoG72\"><button class=\"ui_icon single-chevron-left _2PvL_zPQ _3QXSl3nP _14z_eDZz\" data-test-disabled=\"true\" data-testid=\"nav_prev\"></button><button class=\"ui_icon single-chevron-right _2PvL_zPQ _3sCfCRAV\" data-testid=\"nav_next\"></button></div><div class=\"_24lGrXqa\"><div class=\"_2myVk19-\" role=\"grid\"><div class=\"_1JMy14it\" role=\"heading\"><div>2020년 11월</div></div><div class=\"_2GxyglBL\" role=\"rowgroup\"><div class=\"_4Shxh5lL\" role=\"row\"><div class=\"_3UsgkLqF\"><abbr title=\"월요일\">월</abbr></div><div class=\"_3UsgkLqF\"><abbr title=\"화요일\">화</abbr></div><div class=\"_3UsgkLqF\"><abbr title=\"수요일\">수</abbr></div><div class=\"_3UsgkLqF\"><abbr title=\"목요일\">목</abbr></div><div class=\"_3UsgkLqF\"><abbr title=\"금요일\">금</abbr></div><div class=\"_3UsgkLqF _8MOOwv-8\"><abbr title=\"토요일\">토</abbr></div><div class=\"_3UsgkLqF _8MOOwv-8\"><abbr title=\"일요일\">일</abbr></div></div></div><div class=\"_3d8K7K3- notranslate\" role=\"rowgroup\"><div class=\"_2PEezKeZ\" role=\"row\"><div aria-disabled=\"true\" aria-label=\"Mon Oct 26 2020\" aria-selected=\"false\" class=\"isgB-Yem disabled VrfLkvso\" role=\"gridcell\" tabindex=\"-1\">26</div><div aria-disabled=\"true\" aria-label=\"Tue Oct 27 2020\" aria-selected=\"false\" class=\"isgB-Yem disabled VrfLkvso\" role=\"gridcell\" tabindex=\"-1\">27</div><div aria-disabled=\"true\" aria-label=\"Wed Oct 28 2020\" aria-selected=\"false\" class=\"isgB-Yem disabled VrfLkvso\" role=\"gridcell\" tabindex=\"-1\">28</div><div aria-disabled=\"true\" aria-label=\"Thu Oct 29 2020\" aria-selected=\"false\" class=\"isgB-Yem disabled VrfLkvso\" role=\"gridcell\" tabindex=\"-1\">29</div><div aria-disabled=\"true\" aria-label=\"Fri Oct 30 2020\" aria-selected=\"false\" class=\"isgB-Yem disabled VrfLkvso\" role=\"gridcell\" tabindex=\"-1\">30</div><div aria-disabled=\"true\" aria-label=\"Sat Oct 31 2020\" aria-selected=\"false\" class=\"isgB-Yem disabled VrfLkvso\" role=\"gridcell\" tabindex=\"-1\">31</div><div aria-disabled=\"true\" aria-label=\"Sun Nov 01 2020\" aria-selected=\"false\" class=\"isgB-Yem disabled\" role=\"gridcell\" tabindex=\"0\">1</div></div><div class=\"_2PEezKeZ\" role=\"row\"><div aria-disabled=\"false\" aria-label=\"Mon Nov 02 2020\" aria-selected=\"false\" class=\"isgB-Yem low -ZxSeIqh\" role=\"gridcell\" tabindex=\"-1\">2</div><div aria-disabled=\"false\" aria-label=\"Tue Nov 03 2020\" aria-selected=\"false\" class=\"isgB-Yem low\" role=\"gridcell\" tabindex=\"-1\">3</div><div aria-disabled=\"false\" aria-label=\"Wed Nov 04 2020\" aria-selected=\"false\" class=\"isgB-Yem low\" role=\"gridcell\" tabindex=\"-1\">4</div><div aria-disabled=\"false\" aria-label=\"Thu Nov 05 2020\" aria-selected=\"false\" class=\"isgB-Yem low\" role=\"gridcell\" tabindex=\"-1\">5</div><div aria-disabled=\"false\" aria-label=\"Fri Nov 06 2020\" aria-selected=\"false\" class=\"isgB-Yem\" role=\"gridcell\" tabindex=\"-1\">6</div><div aria-disabled=\"false\" aria-label=\"Sat Nov 07 2020\" aria-selected=\"false\" class=\"isgB-Yem\" role=\"gridcell\" tabindex=\"-1\">7</div><div aria-disabled=\"false\" aria-label=\"Sun Nov 08 2020\" aria-selected=\"false\" class=\"isgB-Yem low\" role=\"gridcell\" tabindex=\"-1\">8</div></div><div class=\"_2PEezKeZ\" role=\"row\"><div aria-disabled=\"false\" aria-label=\"Mon Nov 09 2020\" aria-selected=\"false\" class=\"isgB-Yem\" role=\"gridcell\" tabindex=\"-1\">9</div><div aria-disabled=\"false\" aria-label=\"Tue Nov 10 2020\" aria-selected=\"false\" class=\"isgB-Yem\" role=\"gridcell\" tabindex=\"-1\">10</div><div aria-disabled=\"false\" aria-label=\"Wed Nov 11 2020\" aria-selected=\"false\" class=\"isgB-Yem\" role=\"gridcell\" tabindex=\"-1\">11</div><div aria-disabled=\"false\" aria-label=\"Thu Nov 12 2020\" aria-selected=\"false\" class=\"isgB-Yem\" role=\"gridcell\" tabindex=\"-1\">12</div><div aria-disabled=\"false\" aria-label=\"Fri Nov 13 2020\" aria-selected=\"false\" class=\"isgB-Yem\" role=\"gridcell\" tabindex=\"-1\">13</div><div aria-disabled=\"false\" aria-label=\"Sat Nov 14 2020\" aria-selected=\"false\" class=\"isgB-Yem\" role=\"gridcell\" tabindex=\"-1\">14</div><div aria-disabled=\"false\" aria-label=\"Sun Nov 15 2020\" aria-selected=\"true\" class=\"isgB-Yem start selected\" role=\"gridcell\" tabindex=\"-1\">15</div></div><div class=\"_2PEezKeZ\" role=\"row\"><div aria-disabled=\"false\" aria-label=\"Mon Nov 16 2020\" aria-selected=\"true\" class=\"isgB-Yem end selected\" role=\"gridcell\" tabindex=\"-1\">16</div><div aria-disabled=\"false\" aria-label=\"Tue Nov 17 2020\" aria-selected=\"false\" class=\"isgB-Yem\" role=\"gridcell\" tabindex=\"-1\">17</div><div aria-disabled=\"false\" aria-label=\"Wed Nov 18 2020\" aria-selected=\"false\" class=\"isgB-Yem\" role=\"gridcell\" tabindex=\"-1\">18</div><div aria-disabled=\"false\" aria-label=\"Thu Nov 19 2020\" aria-selected=\"false\" class=\"isgB-Yem\" role=\"gridcell\" tabindex=\"-1\">19</div><div aria-disabled=\"false\" aria-label=\"Fri Nov 20 2020\" aria-selected=\"false\" class=\"isgB-Yem\" role=\"gridcell\" tabindex=\"-1\">20</div><div aria-disabled=\"false\" aria-label=\"Sat Nov 21 2020\" aria-selected=\"false\" class=\"isgB-Yem\" role=\"gridcell\" tabindex=\"-1\">21</div><div aria-disabled=\"false\" aria-label=\"Sun Nov 22 2020\" aria-selected=\"false\" class=\"isgB-Yem\" role=\"gridcell\" tabindex=\"-1\">22</div></div><div class=\"_2PEezKeZ\" role=\"row\"><div aria-disabled=\"false\" aria-label=\"Mon Nov 23 2020\" aria-selected=\"false\" class=\"isgB-Yem\" role=\"gridcell\" tabindex=\"-1\">23</div><div aria-disabled=\"false\" aria-label=\"Tue Nov 24 2020\" aria-selected=\"false\" class=\"isgB-Yem\" role=\"gridcell\" tabindex=\"-1\">24</div><div aria-disabled=\"false\" aria-label=\"Wed Nov 25 2020\" aria-selected=\"false\" class=\"isgB-Yem\" role=\"gridcell\" tabindex=\"-1\">25</div><div aria-disabled=\"false\" aria-label=\"Thu Nov 26 2020\" aria-selected=\"false\" class=\"isgB-Yem\" role=\"gridcell\" tabindex=\"-1\">26</div><div aria-disabled=\"false\" aria-label=\"Fri Nov 27 2020\" aria-selected=\"false\" class=\"isgB-Yem\" role=\"gridcell\" tabindex=\"-1\">27</div><div aria-disabled=\"false\" aria-label=\"Sat Nov 28 2020\" aria-selected=\"false\" class=\"isgB-Yem\" role=\"gridcell\" tabindex=\"-1\">28</div><div aria-disabled=\"false\" aria-label=\"Sun Nov 29 2020\" aria-selected=\"false\" class=\"isgB-Yem\" role=\"gridcell\" tabindex=\"-1\">29</div></div><div class=\"_2PEezKeZ\" role=\"row\"><div aria-disabled=\"false\" aria-label=\"Mon Nov 30 2020\" aria-selected=\"false\" class=\"isgB-Yem\" role=\"gridcell\" tabindex=\"-1\">30</div><div aria-disabled=\"true\" aria-label=\"Tue Dec 01 2020\" aria-selected=\"false\" class=\"isgB-Yem VrfLkvso\" role=\"gridcell\" tabindex=\"-1\">1</div><div aria-disabled=\"true\" aria-label=\"Wed Dec 02 2020\" aria-selected=\"false\" class=\"isgB-Yem VrfLkvso\" role=\"gridcell\" tabindex=\"-1\">2</div><div aria-disabled=\"true\" aria-label=\"Thu Dec 03 2020\" aria-selected=\"false\" class=\"isgB-Yem VrfLkvso\" role=\"gridcell\" tabindex=\"-1\">3</div><div aria-disabled=\"true\" aria-label=\"Fri Dec 04 2020\" aria-selected=\"false\" class=\"isgB-Yem low VrfLkvso\" role=\"gridcell\" tabindex=\"-1\">4</div><div aria-disabled=\"true\" aria-label=\"Sat Dec 05 2020\" aria-selected=\"false\" class=\"isgB-Yem VrfLkvso\" role=\"gridcell\" tabindex=\"-1\">5</div><div aria-disabled=\"true\" aria-label=\"Sun Dec 06 2020\" aria-selected=\"false\" class=\"isgB-Yem low VrfLkvso\" role=\"gridcell\" tabindex=\"-1\">6</div></div></div></div><div class=\"_2myVk19-\" role=\"grid\"><div class=\"_1JMy14it\" role=\"heading\"><div>2020년 12월</div></div><div class=\"_2GxyglBL\" role=\"rowgroup\"><div class=\"_4Shxh5lL\" role=\"row\"><div class=\"_3UsgkLqF\"><abbr title=\"월요일\">월</abbr></div><div class=\"_3UsgkLqF\"><abbr title=\"화요일\">화</abbr></div><div class=\"_3UsgkLqF\"><abbr title=\"수요일\">수</abbr></div><div class=\"_3UsgkLqF\"><abbr title=\"목요일\">목</abbr></div><div class=\"_3UsgkLqF\"><abbr title=\"금요일\">금</abbr></div><div class=\"_3UsgkLqF _8MOOwv-8\"><abbr title=\"토요일\">토</abbr></div><div class=\"_3UsgkLqF _8MOOwv-8\"><abbr title=\"일요일\">일</abbr></div></div></div><div class=\"_3d8K7K3- notranslate\" role=\"rowgroup\"><div class=\"_2PEezKeZ\" role=\"row\"><div aria-disabled=\"true\" aria-label=\"Mon Nov 30 2020\" aria-selected=\"false\" class=\"isgB-Yem VrfLkvso\" role=\"gridcell\" tabindex=\"-1\">30</div><div aria-disabled=\"false\" aria-label=\"Tue Dec 01 2020\" aria-selected=\"false\" class=\"isgB-Yem\" role=\"gridcell\" tabindex=\"0\">1</div><div aria-disabled=\"false\" aria-label=\"Wed Dec 02 2020\" aria-selected=\"false\" class=\"isgB-Yem\" role=\"gridcell\" tabindex=\"-1\">2</div><div aria-disabled=\"false\" aria-label=\"Thu Dec 03 2020\" aria-selected=\"false\" class=\"isgB-Yem\" role=\"gridcell\" tabindex=\"-1\">3</div><div aria-disabled=\"false\" aria-label=\"Fri Dec 04 2020\" aria-selected=\"false\" class=\"isgB-Yem low\" role=\"gridcell\" tabindex=\"-1\">4</div><div aria-disabled=\"false\" aria-label=\"Sat Dec 05 2020\" aria-selected=\"false\" class=\"isgB-Yem\" role=\"gridcell\" tabindex=\"-1\">5</div><div aria-disabled=\"false\" aria-label=\"Sun Dec 06 2020\" aria-selected=\"false\" class=\"isgB-Yem low\" role=\"gridcell\" tabindex=\"-1\">6</div></div><div class=\"_2PEezKeZ\" role=\"row\"><div aria-disabled=\"false\" aria-label=\"Mon Dec 07 2020\" aria-selected=\"false\" class=\"isgB-Yem low\" role=\"gridcell\" tabindex=\"-1\">7</div><div aria-disabled=\"false\" aria-label=\"Tue Dec 08 2020\" aria-selected=\"false\" class=\"isgB-Yem\" role=\"gridcell\" tabindex=\"-1\">8</div><div aria-disabled=\"false\" aria-label=\"Wed Dec 09 2020\" aria-selected=\"false\" class=\"isgB-Yem low\" role=\"gridcell\" tabindex=\"-1\">9</div><div aria-disabled=\"false\" aria-label=\"Thu Dec 10 2020\" aria-selected=\"false\" class=\"isgB-Yem low\" role=\"gridcell\" tabindex=\"-1\">10</div><div aria-disabled=\"false\" aria-label=\"Fri Dec 11 2020\" aria-selected=\"false\" class=\"isgB-Yem\" role=\"gridcell\" tabindex=\"-1\">11</div><div aria-disabled=\"false\" aria-label=\"Sat Dec 12 2020\" aria-selected=\"false\" class=\"isgB-Yem\" role=\"gridcell\" tabindex=\"-1\">12</div><div aria-disabled=\"false\" aria-label=\"Sun Dec 13 2020\" aria-selected=\"false\" class=\"isgB-Yem low\" role=\"gridcell\" tabindex=\"-1\">13</div></div><div class=\"_2PEezKeZ\" role=\"row\"><div aria-disabled=\"false\" aria-label=\"Mon Dec 14 2020\" aria-selected=\"false\" class=\"isgB-Yem low\" role=\"gridcell\" tabindex=\"-1\">14</div><div aria-disabled=\"false\" aria-label=\"Tue Dec 15 2020\" aria-selected=\"false\" class=\"isgB-Yem low\" role=\"gridcell\" tabindex=\"-1\">15</div><div aria-disabled=\"false\" aria-label=\"Wed Dec 16 2020\" aria-selected=\"false\" class=\"isgB-Yem low\" role=\"gridcell\" tabindex=\"-1\">16</div><div aria-disabled=\"false\" aria-label=\"Thu Dec 17 2020\" aria-selected=\"false\" class=\"isgB-Yem\" role=\"gridcell\" tabindex=\"-1\">17</div><div aria-disabled=\"false\" aria-label=\"Fri Dec 18 2020\" aria-selected=\"false\" class=\"isgB-Yem\" role=\"gridcell\" tabindex=\"-1\">18</div><div aria-disabled=\"false\" aria-label=\"Sat Dec 19 2020\" aria-selected=\"false\" class=\"isgB-Yem\" role=\"gridcell\" tabindex=\"-1\">19</div><div aria-disabled=\"false\" aria-label=\"Sun Dec 20 2020\" aria-selected=\"false\" class=\"isgB-Yem\" role=\"gridcell\" tabindex=\"-1\">20</div></div><div class=\"_2PEezKeZ\" role=\"row\"><div aria-disabled=\"false\" aria-label=\"Mon Dec 21 2020\" aria-selected=\"false\" class=\"isgB-Yem\" role=\"gridcell\" tabindex=\"-1\">21</div><div aria-disabled=\"false\" aria-label=\"Tue Dec 22 2020\" aria-selected=\"false\" class=\"isgB-Yem\" role=\"gridcell\" tabindex=\"-1\">22</div><div aria-disabled=\"false\" aria-label=\"Wed Dec 23 2020\" aria-selected=\"false\" class=\"isgB-Yem\" role=\"gridcell\" tabindex=\"-1\">23</div><div aria-disabled=\"false\" aria-label=\"Thu Dec 24 2020\" aria-selected=\"false\" class=\"isgB-Yem\" role=\"gridcell\" tabindex=\"-1\">24</div><div aria-disabled=\"false\" aria-label=\"Fri Dec 25 2020\" aria-selected=\"false\" class=\"isgB-Yem\" role=\"gridcell\" tabindex=\"-1\">25</div><div aria-disabled=\"false\" aria-label=\"Sat Dec 26 2020\" aria-selected=\"false\" class=\"isgB-Yem\" role=\"gridcell\" tabindex=\"-1\">26</div><div aria-disabled=\"false\" aria-label=\"Sun Dec 27 2020\" aria-selected=\"false\" class=\"isgB-Yem\" role=\"gridcell\" tabindex=\"-1\">27</div></div><div class=\"_2PEezKeZ\" role=\"row\"><div aria-disabled=\"false\" aria-label=\"Mon Dec 28 2020\" aria-selected=\"false\" class=\"isgB-Yem\" role=\"gridcell\" tabindex=\"-1\">28</div><div aria-disabled=\"false\" aria-label=\"Tue Dec 29 2020\" aria-selected=\"false\" class=\"isgB-Yem\" role=\"gridcell\" tabindex=\"-1\">29</div><div aria-disabled=\"false\" aria-label=\"Wed Dec 30 2020\" aria-selected=\"false\" class=\"isgB-Yem\" role=\"gridcell\" tabindex=\"-1\">30</div><div aria-disabled=\"false\" aria-label=\"Thu Dec 31 2020\" aria-selected=\"false\" class=\"isgB-Yem\" role=\"gridcell\" tabindex=\"-1\">31</div><div aria-disabled=\"true\" aria-label=\"Fri Jan 01 2021\" aria-selected=\"false\" class=\"isgB-Yem low VrfLkvso\" role=\"gridcell\" tabindex=\"-1\">1</div><div aria-disabled=\"true\" aria-label=\"Sat Jan 02 2021\" aria-selected=\"false\" class=\"isgB-Yem VrfLkvso\" role=\"gridcell\" tabindex=\"-1\">2</div><div aria-disabled=\"true\" aria-label=\"Sun Jan 03 2021\" aria-selected=\"false\" class=\"isgB-Yem VrfLkvso\" role=\"gridcell\" tabindex=\"-1\">3</div></div><div class=\"_2PEezKeZ\" role=\"row\"><div aria-disabled=\"true\" aria-label=\"Mon Jan 04 2021\" aria-selected=\"false\" class=\"isgB-Yem VrfLkvso\" role=\"gridcell\" tabindex=\"-1\">4</div><div aria-disabled=\"true\" aria-label=\"Tue Jan 05 2021\" aria-selected=\"false\" class=\"isgB-Yem low VrfLkvso\" role=\"gridcell\" tabindex=\"-1\">5</div><div aria-disabled=\"true\" aria-label=\"Wed Jan 06 2021\" aria-selected=\"false\" class=\"isgB-Yem low VrfLkvso\" role=\"gridcell\" tabindex=\"-1\">6</div><div aria-disabled=\"true\" aria-label=\"Thu Jan 07 2021\" aria-selected=\"false\" class=\"isgB-Yem VrfLkvso\" role=\"gridcell\" tabindex=\"-1\">7</div><div aria-disabled=\"true\" aria-label=\"Fri Jan 08 2021\" aria-selected=\"false\" class=\"isgB-Yem VrfLkvso\" role=\"gridcell\" tabindex=\"-1\">8</div><div aria-disabled=\"true\" aria-label=\"Sat Jan 09 2021\" aria-selected=\"false\" class=\"isgB-Yem VrfLkvso\" role=\"gridcell\" tabindex=\"-1\">9</div><div aria-disabled=\"true\" aria-label=\"Sun Jan 10 2021\" aria-selected=\"false\" class=\"isgB-Yem VrfLkvso\" role=\"gridcell\" tabindex=\"-1\">10</div></div></div></div></div></div></div><div class=\"Ppck2ajp\"><span>평균 일일 요금: ₩61,364~₩132,955</span></div></div></div></div></div><div class=\"_1uOuyC8x\" data-skip-focus=\"true\" tabindex=\"0\"></div></div><img class=\"ad ad_column\" height=\"0\" src=\"https://static.tacdn.com/img2/x.gif?&amp;ads=1&amp;adsize=2&amp;adslot=3&amp;rnd=8325\" style=\"position:absolute\" width=\"0\"/><iframe height=\"1\" id=\"Monikers\" scrolling=\"no\" src=\"/PageMoniker?pixelList=clicktripz_aud_pixel,google_pixel,bing_pixel,dv360_pixel,im_audience_pixel,intent_score_pixel,comscore_pixel,twitter_audience_pixel&amp;servlet=Hotels&amp;userUnique=ba1c87598a600def0aad36ca42f63cb5ac46cb64&amp;fullPageUrl=https%3A%2F%2Fwww.tripadvisor.co.kr%2FHotels-g297884-Busan-Hotels.html&amp;pageTitle=2020%EB%85%84+%EB%B6%80%EC%82%B0+%EC%B6%94%EC%B2%9C+%ED%98%B8%ED%85%94+%EB%B2%A0%EC%8A%A4%ED%8A%B8+10+-+Tripadvisor&amp;geoId=297884&amp;curLocId=297884&amp;locIds=12242451,19421008,18816176,12369399,456134,12485349,302440,3813531,17337868,17535697,9457404,1462716,15295949,13398001,9731832,10423568,8749265,17435273,455919,1148067,301816,7597507,660899,7654220,7680196,20462150,7178653,10408137,477913,1513883&amp;pixelType=PAGEVIEW&amp;puid=X5@xggokLhkAAhn-G1IAAAFB\" style=\"border:none; position:absolute; bottom:0; right:0\" width=\"1\"></iframe><iframe height=\"1\" id=\"Monikers_HPL\" scrolling=\"no\" src=\"/PageMoniker?&amp;servlet=Hotels&amp;userUnique=ba1c87598a600def0aad36ca42f63cb5ac46cb64&amp;fullPageUrl=https%3A%2F%2Fwww.tripadvisor.co.kr%2FHotels-g297884-Busan-Hotels.html&amp;pageTitle=2020%EB%85%84+%EB%B6%80%EC%82%B0+%EC%B6%94%EC%B2%9C+%ED%98%B8%ED%85%94+%EB%B2%A0%EC%8A%A4%ED%8A%B8+10+-+Tripadvisor&amp;geoId=297884&amp;curLocId=297884&amp;locIds=12242451,19421008,18816176,12369399,456134,12485349,302440,3813531,17337868,17535697,9457404,1462716,15295949,13398001,9731832,10423568,8749265,17435273,455919,1148067,301816,7597507,660899,7654220,7680196,20462150,7178653,10408137,477913,1513883&amp;locPrices=106722,59850,57475,308000,103782&amp;pixelType=HAC_PRICES_LOADED&amp;puid=X5@xggokLhkAAhn-G1IAAAFB\" style=\"border:none; position:absolute; bottom:0; right:0\" width=\"1\"></iframe></body></html>"
      ]
     },
     "metadata": {},
     "execution_count": 35
    }
   ],
   "source": [
    "soup"
   ]
  },
  {
   "cell_type": "code",
   "execution_count": 36,
   "metadata": {},
   "outputs": [
    {
     "output_type": "stream",
     "name": "stdout",
     "text": [
      "[]\n"
     ]
    }
   ],
   "source": [
    "# 이미지\n",
    "photos = soup.findAll('div', {'class' : '_1a4WY7aS'})\n",
    "print(photos)"
   ]
  },
  {
   "cell_type": "code",
   "execution_count": 26,
   "metadata": {},
   "outputs": [
    {
     "output_type": "error",
     "ename": "AttributeError",
     "evalue": "ResultSet object has no attribute 'get'. You're probably treating a list of elements like a single element. Did you call find_all() when you meant to call find()?",
     "traceback": [
      "\u001b[1;31m---------------------------------------------------------------------------\u001b[0m",
      "\u001b[1;31mAttributeError\u001b[0m                            Traceback (most recent call last)",
      "\u001b[1;32m<ipython-input-26-e6f16129d19a>\u001b[0m in \u001b[0;36m<module>\u001b[1;34m\u001b[0m\n\u001b[0;32m      3\u001b[0m    \u001b[0mos\u001b[0m\u001b[1;33m.\u001b[0m\u001b[0mmkdir\u001b[0m\u001b[1;33m(\u001b[0m\u001b[0mimg_dir\u001b[0m\u001b[1;33m)\u001b[0m\u001b[1;33m\u001b[0m\u001b[1;33m\u001b[0m\u001b[0m\n\u001b[0;32m      4\u001b[0m \u001b[1;33m\u001b[0m\u001b[0m\n\u001b[1;32m----> 5\u001b[1;33m \u001b[0mprint\u001b[0m\u001b[1;33m(\u001b[0m \u001b[0mphotos\u001b[0m\u001b[1;33m.\u001b[0m\u001b[0mget\u001b[0m\u001b[1;33m(\u001b[0m\u001b[1;34m'src'\u001b[0m\u001b[1;33m)\u001b[0m\u001b[1;33m)\u001b[0m\u001b[1;33m\u001b[0m\u001b[1;33m\u001b[0m\u001b[0m\n\u001b[0m\u001b[0;32m      6\u001b[0m \u001b[1;32mfor\u001b[0m \u001b[0mphoto\u001b[0m \u001b[1;32min\u001b[0m \u001b[0mphotos\u001b[0m \u001b[1;33m:\u001b[0m\u001b[1;33m\u001b[0m\u001b[1;33m\u001b[0m\u001b[0m\n\u001b[0;32m      7\u001b[0m     \u001b[0mprint\u001b[0m\u001b[1;33m(\u001b[0m\u001b[0mphoto\u001b[0m\u001b[1;33m.\u001b[0m\u001b[0mget\u001b[0m\u001b[1;33m(\u001b[0m\u001b[1;34m'src'\u001b[0m\u001b[1;33m)\u001b[0m\u001b[1;33m)\u001b[0m\u001b[1;33m\u001b[0m\u001b[1;33m\u001b[0m\u001b[0m\n",
      "\u001b[1;32m~\\AppData\\Local\\Programs\\anaconda3\\envs\\Rich\\lib\\site-packages\\bs4\\element.py\u001b[0m in \u001b[0;36m__getattr__\u001b[1;34m(self, key)\u001b[0m\n\u001b[0;32m   2172\u001b[0m         \u001b[1;34m\"\"\"Raise a helpful exception to explain a common code fix.\"\"\"\u001b[0m\u001b[1;33m\u001b[0m\u001b[1;33m\u001b[0m\u001b[0m\n\u001b[0;32m   2173\u001b[0m         raise AttributeError(\n\u001b[1;32m-> 2174\u001b[1;33m             \u001b[1;34m\"ResultSet object has no attribute '%s'. You're probably treating a list of elements like a single element. Did you call find_all() when you meant to call find()?\"\u001b[0m \u001b[1;33m%\u001b[0m \u001b[0mkey\u001b[0m\u001b[1;33m\u001b[0m\u001b[1;33m\u001b[0m\u001b[0m\n\u001b[0m\u001b[0;32m   2175\u001b[0m         )\n",
      "\u001b[1;31mAttributeError\u001b[0m: ResultSet object has no attribute 'get'. You're probably treating a list of elements like a single element. Did you call find_all() when you meant to call find()?"
     ]
    }
   ],
   "source": [
    "\n",
    "img_dir = f\"{os.getcwd()}/img\"\n",
    "if not os.path.isdir(img_dir):\n",
    "   os.mkdir(img_dir)\n",
    "\n",
    "for photo in photos :\n",
    "    url = photo.get('style').split('\"')[1]\n",
    "    img_file_name = url.split('/')[-1]\n",
    "    img_data = requests.get(url).content\n",
    "    with open(f'img/i{img_file_name}', 'wb') as handler:\n",
    "        handler.write(img_data)\n",
    "\n"
   ]
  }
 ],
 "metadata": {
  "kernelspec": {
   "name": "Python 3.7.9 64-bit",
   "display_name": "Python 3.7.9 64-bit",
   "metadata": {
    "interpreter": {
     "hash": "016e0e5fd05a6e661b7c17010e2a84554a8c2fa30a97bde1e1205b573bab6161"
    }
   }
  },
  "language_info": {
   "codemirror_mode": {
    "name": "ipython",
    "version": 3
   },
   "file_extension": ".py",
   "mimetype": "text/x-python",
   "name": "python",
   "nbconvert_exporter": "python",
   "pygments_lexer": "ipython3",
   "version": "3.7.9-final"
  },
  "toc": {
   "base_numbering": 1,
   "nav_menu": {},
   "number_sections": false,
   "sideBar": true,
   "skip_h1_title": false,
   "title_cell": "Table of Contents",
   "title_sidebar": "Contents",
   "toc_cell": false,
   "toc_position": {},
   "toc_section_display": true,
   "toc_window_display": false
  }
 },
 "nbformat": 4,
 "nbformat_minor": 4
}
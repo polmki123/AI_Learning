{
 "cells": [
  {
   "cell_type": "markdown",
   "metadata": {},
   "source": [
    "# 웹 크롤링 기본\n",
    "\n",
    "* 크롤링 사이트: https://www.tripadvisor.co.kr/Restaurants-g294197-Seoul.html\n",
    "* robots.txt:  https://www.tripadvisor.co.kr/robots.txt\n",
    "\n",
    "\n",
    "### 크롤링 절차\n",
    "\n",
    "1. 사이트의 html을 읽어들이기: requests.get(url) 사용\n",
    "    \n",
    "2. 텍스트 형태의 데이터를 html 태그별로 구분하여 파싱하기 : BeutifulSoup\n",
    "\n",
    "3. 특정 태그값만 찾기 : findAll, find\n",
    "\n",
    "4. 필요한 데이터값 정제하기\n",
    "\n",
    "5. 데이터 저장하기"
   ]
  },
  {
   "cell_type": "code",
   "execution_count": 1,
   "metadata": {},
   "outputs": [],
   "source": [
    "from bs4 import BeautifulSoup\n",
    "import requests\n",
    "import pandas as pd"
   ]
  },
  {
   "cell_type": "code",
   "execution_count": 2,
   "metadata": {},
   "outputs": [],
   "source": [
    "# 크롤링할 웹 사이트 정보\n",
    "base_url = 'https://www.tripadvisor.co.kr'\n",
    "seoul_url = '/Restaurants-g294197-Seoul.html'\n",
    "\n",
    "# get html\n",
    "response = requests.get(base_url+seoul_url)\n",
    "# response.text"
   ]
  },
  {
   "cell_type": "code",
   "execution_count": 3,
   "metadata": {},
   "outputs": [],
   "source": [
    "# BeautifulSoup을 활용하여 데이터 파싱\n",
    "soup = BeautifulSoup(response.text, 'html.parser')"
   ]
  },
  {
   "cell_type": "code",
   "execution_count": 5,
   "metadata": {},
   "outputs": [
    {
     "output_type": "stream",
     "name": "stdout",
     "text": [
      "[<div class=\"wQjYiB7z\"><span><a class=\"_15_ydu6b\" href=\"/Restaurant_Review-g294197-d3371655-Reviews-Paolo_De_Maria-Seoul.html\" target=\"_blank\">파올로 데 마리아</a></span></div>, <div class=\"wQjYiB7z\"><span><a class=\"_15_ydu6b\" href=\"/Restaurant_Review-g294197-d14803574-Reviews-Flavors-Seoul.html\" target=\"_blank\">1<!-- -->. <!-- -->플레이버즈</a></span></div>, <div class=\"wQjYiB7z\"><span><a class=\"_15_ydu6b\" href=\"/Restaurant_Review-g294197-d1978666-Reviews-Gusto_Taco-Seoul.html\" target=\"_blank\">2<!-- -->. <!-- -->구스토 타코</a></span></div>, <div class=\"wQjYiB7z\"><span><a class=\"_15_ydu6b\" href=\"/Restaurant_Review-g294197-d10257443-Reviews-Jihwaja-Seoul.html\" target=\"_blank\">3<!-- -->. <!-- -->지화자</a></span></div>, <div class=\"wQjYiB7z\"><span><a class=\"_15_ydu6b\" href=\"/Restaurant_Review-g294197-d14090441-Reviews-853-Seoul.html\" target=\"_blank\">4<!-- -->. <!-- -->853</a></span></div>, <div class=\"wQjYiB7z\"><span><a class=\"_15_ydu6b\" href=\"/Restaurant_Review-g294197-d6904237-Reviews-Hemlagat-Seoul.html\" target=\"_blank\">5<!-- -->. <!-- -->헴라갓</a></span></div>, <div class=\"wQjYiB7z\"><span><a class=\"_15_ydu6b\" href=\"/Restaurant_Review-g294197-d8681713-Reviews-Harmonium-Seoul.html\" target=\"_blank\">아르모니움</a></span></div>, <div class=\"wQjYiB7z\"><span><a class=\"_15_ydu6b\" href=\"/Restaurant_Review-g294197-d9565154-Reviews-The_Griffin_Bar-Seoul.html\" target=\"_blank\">6<!-- -->. <!-- -->더그리핀바</a></span></div>, <div class=\"wQjYiB7z\"><span><a class=\"_15_ydu6b\" href=\"/Restaurant_Review-g294197-d17423735-Reviews-Jangseng_Geongangwon-Seoul.html\" target=\"_blank\">7<!-- -->. <!-- -->장생건강원</a></span></div>, <div class=\"wQjYiB7z\"><span><a class=\"_15_ydu6b\" href=\"/Restaurant_Review-g294197-d8472275-Reviews-Choigozip_Hongdae-Seoul.html\" target=\"_blank\">8<!-- -->. <!-- -->최고집 홍대점</a></span></div>, <div class=\"wQjYiB7z\"><span><a class=\"_15_ydu6b\" href=\"/Restaurant_Review-g294197-d3200324-Reviews-Jungsik-Seoul.html\" target=\"_blank\">9<!-- -->. <!-- -->정식당</a></span></div>, <div class=\"wQjYiB7z\"><span><a class=\"_15_ydu6b\" href=\"/Restaurant_Review-g294197-d7105808-Reviews-Yang_Good-Seoul.html\" target=\"_blank\">10<!-- -->. <!-- -->양국</a></span></div>, <div class=\"wQjYiB7z\"><span><a class=\"_15_ydu6b\" href=\"/Restaurant_Review-g294197-d12347788-Reviews-Dooreyoo-Seoul.html\" target=\"_blank\">두레유</a></span></div>, <div class=\"wQjYiB7z\"><span><a class=\"_15_ydu6b\" href=\"/Restaurant_Review-g294197-d2330577-Reviews-Braai_Republic-Seoul.html\" target=\"_blank\">11<!-- -->. <!-- -->브라이 리퍼블릭</a></span></div>, <div class=\"wQjYiB7z\"><span><a class=\"_15_ydu6b\" href=\"/Restaurant_Review-g294197-d4030459-Reviews-Kyochon_Chicken_Dongdaemun_1-Seoul.html\" target=\"_blank\">12<!-- -->. <!-- -->교촌치킨 동대문1호점</a></span></div>, <div class=\"wQjYiB7z\"><span><a class=\"_15_ydu6b\" href=\"/Restaurant_Review-g294197-d1371740-Reviews-Mugyodong_Bugeokukjib-Seoul.html\" target=\"_blank\">13<!-- -->. <!-- -->무교동 북어국집</a></span></div>, <div class=\"wQjYiB7z\"><span><a class=\"_15_ydu6b\" href=\"/Restaurant_Review-g294197-d6463317-Reviews-Tavolo_24-Seoul.html\" target=\"_blank\">14<!-- -->. <!-- -->타볼로 24</a></span></div>, <div class=\"wQjYiB7z\"><span><a class=\"_15_ydu6b\" href=\"/Restaurant_Review-g294197-d2170347-Reviews-Jyoti_Indian_Restaurant-Seoul.html\" target=\"_blank\">15<!-- -->. <!-- -->죠티인도레스토랑</a></span></div>, <div class=\"wQjYiB7z\"><span><a class=\"_15_ydu6b\" href=\"/Restaurant_Review-g294197-d4074239-Reviews-Pairing_Room-Seoul.html\" target=\"_blank\">페어링룸</a></span></div>, <div class=\"wQjYiB7z\"><span><a class=\"_15_ydu6b\" href=\"/Restaurant_Review-g294197-d11785643-Reviews-Gwanghwamun_Ichungjib-Seoul.html\" target=\"_blank\">16<!-- -->. <!-- -->광화문이층집</a></span></div>, <div class=\"wQjYiB7z\"><span><a class=\"_15_ydu6b\" href=\"/Restaurant_Review-g294197-d3616586-Reviews-The_Park_View-Seoul.html\" target=\"_blank\">17<!-- -->. <!-- -->더 파크뷰</a></span></div>, <div class=\"wQjYiB7z\"><span><a class=\"_15_ydu6b\" href=\"/Restaurant_Review-g294197-d4171321-Reviews-Brooklyn_The_Burger_Joint-Seoul.html\" target=\"_blank\">18<!-- -->. <!-- -->브루클린 더버거조인트</a></span></div>, <div class=\"wQjYiB7z\"><span><a class=\"_15_ydu6b\" href=\"/Restaurant_Review-g294197-d9171053-Reviews-Jonny_Dumpling-Seoul.html\" target=\"_blank\">19<!-- -->. <!-- -->쟈니덤플링</a></span></div>, <div class=\"wQjYiB7z\"><span><a class=\"_15_ydu6b\" href=\"/Restaurant_Review-g294197-d2228910-Reviews-Yeonnamseo_Sikdang-Seoul.html\" target=\"_blank\">20<!-- -->. <!-- -->연남서식당</a></span></div>, <div class=\"wQjYiB7z\"><span><a class=\"_15_ydu6b\" href=\"/Restaurant_Review-g294197-d4070952-Reviews-N_Grill-Seoul.html\" target=\"_blank\">엔그릴</a></span></div>, <div class=\"wQjYiB7z\"><span><a class=\"_15_ydu6b\" href=\"/Restaurant_Review-g294197-d14141515-Reviews-Haedo_Sikdang-Seoul.html\" target=\"_blank\">21<!-- -->. <!-- -->해도식당</a></span></div>, <div class=\"wQjYiB7z\"><span><a class=\"_15_ydu6b\" href=\"/Restaurant_Review-g294197-d7033805-Reviews-Linus_Bama_Style_BBQ-Seoul.html\" target=\"_blank\">22<!-- -->. <!-- -->라이너스 바베큐</a></span></div>, <div class=\"wQjYiB7z\"><span><a class=\"_15_ydu6b\" href=\"/Restaurant_Review-g294197-d8135346-Reviews-Brera-Seoul.html\" target=\"_blank\">23<!-- -->. <!-- -->브레라</a></span></div>, <div class=\"wQjYiB7z\"><span><a class=\"_15_ydu6b\" href=\"/Restaurant_Review-g294197-d7132369-Reviews-Hongdae_Dakgalbi-Seoul.html\" target=\"_blank\">24<!-- -->. <!-- -->홍대 닭갈비</a></span></div>, <div class=\"wQjYiB7z\"><span><a class=\"_15_ydu6b\" href=\"/Restaurant_Review-g294197-d9205326-Reviews-Yukjeon_Sikdang_Main_Store-Seoul.html\" target=\"_blank\">25<!-- -->. <!-- -->육전식당 - 본점</a></span></div>, <div class=\"wQjYiB7z\"><span><a class=\"_15_ydu6b\" href=\"/Restaurant_Review-g294197-d19649980-Reviews-Oh_Beut-Seoul.html\" target=\"_blank\">오븟</a></span></div>, <div class=\"wQjYiB7z\"><span><a class=\"_15_ydu6b\" href=\"/Restaurant_Review-g294197-d9203939-Reviews-Yu_Chicken_Story-Seoul.html\" target=\"_blank\">26<!-- -->. <!-- -->유닭스토리</a></span></div>, <div class=\"wQjYiB7z\"><span><a class=\"_15_ydu6b\" href=\"/Restaurant_Review-g294197-d2228988-Reviews-Myeongdong_Dakhanmari_Main-Seoul.html\" target=\"_blank\">27<!-- -->. <!-- -->명동닭한마리 본점</a></span></div>, <div class=\"wQjYiB7z\"><span><a class=\"_15_ydu6b\" href=\"/Restaurant_Review-g294197-d3922956-Reviews-Jamaejip-Seoul.html\" target=\"_blank\">28<!-- -->. <!-- -->자매집</a></span></div>, <div class=\"wQjYiB7z\"><span><a class=\"_15_ydu6b\" href=\"/Restaurant_Review-g294197-d4075980-Reviews-La_Seine-Seoul.html\" target=\"_blank\">29<!-- -->. <!-- -->라세느</a></span></div>, <div class=\"wQjYiB7z\"><span><a class=\"_15_ydu6b\" href=\"/Restaurant_Review-g294197-d1237999-Reviews-Migabon-Seoul.html\" target=\"_blank\">30<!-- -->. <!-- -->미가본</a></span></div>]\n"
     ]
    }
   ],
   "source": [
    "# 맛집 목록 가져오기\n",
    "lists = soup.findAll('div', {'class' : 'wQjYiB7z'}) \n",
    "\n",
    "# for item in lists:\n",
    "#     tem = str(item)\n",
    "print(lists)"
   ]
  },
  {
   "cell_type": "code",
   "execution_count": 6,
   "metadata": {},
   "outputs": [],
   "source": [
    "# 데이터 파싱하기\n",
    "rest_id_list = []\n",
    "rest_name_list = []\n",
    "rest_url_list = []\n",
    "\n",
    "for item in lists:\n",
    "    # 링크 가져오기\n",
    "    hrefs = item.find('a')\n",
    "    href = hrefs.get('href')\n",
    "    full_url = base_url + href\n",
    "\n",
    "    # 순위와 이름 분리하기, 광고 제거하기\n",
    "    #[1 , 장생건강원]\n",
    "    #[2,  무슨음식점]\n",
    "    #[광고음식점]\n",
    "    \n",
    "    name = item.text.split('.')\n",
    "\n",
    "    if len(name) == 2:\n",
    "        rest_id = name[0]\n",
    "        rest_name = name[1]\n",
    "        rest_url = full_url\n",
    "        #데이터 프레임을 만들기 위한 리스트\n",
    "        rest_id_list.append(rest_id)\n",
    "        rest_name_list.append(rest_name)\n",
    "        rest_url_list.append(rest_url)\n",
    "#         print('[ID]' + rest_id + ' [NAME]' + rest_name + ' [URL]' + rest_url)\n",
    "        \n",
    "result = pd.DataFrame(data={'[ID]' : rest_id_list, '[NAME]' : rest_name_list, '[URL]' : rest_url_list})\n",
    "# print(result)\n",
    "# result"
   ]
  },
  {
   "cell_type": "code",
   "execution_count": 7,
   "metadata": {},
   "outputs": [
    {
     "output_type": "execute_result",
     "data": {
      "text/plain": [
       "   [ID]        [NAME]                                              [URL]\n",
       "0     1         플레이버즈  https://www.tripadvisor.co.kr/Restaurant_Revie...\n",
       "1     2        구스토 타코  https://www.tripadvisor.co.kr/Restaurant_Revie...\n",
       "2     3           지화자  https://www.tripadvisor.co.kr/Restaurant_Revie...\n",
       "3     4           853  https://www.tripadvisor.co.kr/Restaurant_Revie...\n",
       "4     5           헴라갓  https://www.tripadvisor.co.kr/Restaurant_Revie...\n",
       "5     6         더그리핀바  https://www.tripadvisor.co.kr/Restaurant_Revie...\n",
       "6     7         장생건강원  https://www.tripadvisor.co.kr/Restaurant_Revie...\n",
       "7     8       최고집 홍대점  https://www.tripadvisor.co.kr/Restaurant_Revie...\n",
       "8     9           정식당  https://www.tripadvisor.co.kr/Restaurant_Revie...\n",
       "9    10            양국  https://www.tripadvisor.co.kr/Restaurant_Revie...\n",
       "10   11      브라이 리퍼블릭  https://www.tripadvisor.co.kr/Restaurant_Revie...\n",
       "11   12   교촌치킨 동대문1호점  https://www.tripadvisor.co.kr/Restaurant_Revie...\n",
       "12   13      무교동 북어국집  https://www.tripadvisor.co.kr/Restaurant_Revie...\n",
       "13   14        타볼로 24  https://www.tripadvisor.co.kr/Restaurant_Revie...\n",
       "14   15      죠티인도레스토랑  https://www.tripadvisor.co.kr/Restaurant_Revie...\n",
       "15   16        광화문이층집  https://www.tripadvisor.co.kr/Restaurant_Revie...\n",
       "16   17         더 파크뷰  https://www.tripadvisor.co.kr/Restaurant_Revie...\n",
       "17   18   브루클린 더버거조인트  https://www.tripadvisor.co.kr/Restaurant_Revie...\n",
       "18   19         쟈니덤플링  https://www.tripadvisor.co.kr/Restaurant_Revie...\n",
       "19   20         연남서식당  https://www.tripadvisor.co.kr/Restaurant_Revie...\n",
       "20   21          해도식당  https://www.tripadvisor.co.kr/Restaurant_Revie...\n",
       "21   22      라이너스 바베큐  https://www.tripadvisor.co.kr/Restaurant_Revie...\n",
       "22   23           브레라  https://www.tripadvisor.co.kr/Restaurant_Revie...\n",
       "23   24        홍대 닭갈비  https://www.tripadvisor.co.kr/Restaurant_Revie...\n",
       "24   25     육전식당 - 본점  https://www.tripadvisor.co.kr/Restaurant_Revie...\n",
       "25   26         유닭스토리  https://www.tripadvisor.co.kr/Restaurant_Revie...\n",
       "26   27     명동닭한마리 본점  https://www.tripadvisor.co.kr/Restaurant_Revie...\n",
       "27   28           자매집  https://www.tripadvisor.co.kr/Restaurant_Revie...\n",
       "28   29           라세느  https://www.tripadvisor.co.kr/Restaurant_Revie...\n",
       "29   30           미가본  https://www.tripadvisor.co.kr/Restaurant_Revie..."
      ],
      "text/html": "<div>\n<style scoped>\n    .dataframe tbody tr th:only-of-type {\n        vertical-align: middle;\n    }\n\n    .dataframe tbody tr th {\n        vertical-align: top;\n    }\n\n    .dataframe thead th {\n        text-align: right;\n    }\n</style>\n<table border=\"1\" class=\"dataframe\">\n  <thead>\n    <tr style=\"text-align: right;\">\n      <th></th>\n      <th>[ID]</th>\n      <th>[NAME]</th>\n      <th>[URL]</th>\n    </tr>\n  </thead>\n  <tbody>\n    <tr>\n      <th>0</th>\n      <td>1</td>\n      <td>플레이버즈</td>\n      <td>https://www.tripadvisor.co.kr/Restaurant_Revie...</td>\n    </tr>\n    <tr>\n      <th>1</th>\n      <td>2</td>\n      <td>구스토 타코</td>\n      <td>https://www.tripadvisor.co.kr/Restaurant_Revie...</td>\n    </tr>\n    <tr>\n      <th>2</th>\n      <td>3</td>\n      <td>지화자</td>\n      <td>https://www.tripadvisor.co.kr/Restaurant_Revie...</td>\n    </tr>\n    <tr>\n      <th>3</th>\n      <td>4</td>\n      <td>853</td>\n      <td>https://www.tripadvisor.co.kr/Restaurant_Revie...</td>\n    </tr>\n    <tr>\n      <th>4</th>\n      <td>5</td>\n      <td>헴라갓</td>\n      <td>https://www.tripadvisor.co.kr/Restaurant_Revie...</td>\n    </tr>\n    <tr>\n      <th>5</th>\n      <td>6</td>\n      <td>더그리핀바</td>\n      <td>https://www.tripadvisor.co.kr/Restaurant_Revie...</td>\n    </tr>\n    <tr>\n      <th>6</th>\n      <td>7</td>\n      <td>장생건강원</td>\n      <td>https://www.tripadvisor.co.kr/Restaurant_Revie...</td>\n    </tr>\n    <tr>\n      <th>7</th>\n      <td>8</td>\n      <td>최고집 홍대점</td>\n      <td>https://www.tripadvisor.co.kr/Restaurant_Revie...</td>\n    </tr>\n    <tr>\n      <th>8</th>\n      <td>9</td>\n      <td>정식당</td>\n      <td>https://www.tripadvisor.co.kr/Restaurant_Revie...</td>\n    </tr>\n    <tr>\n      <th>9</th>\n      <td>10</td>\n      <td>양국</td>\n      <td>https://www.tripadvisor.co.kr/Restaurant_Revie...</td>\n    </tr>\n    <tr>\n      <th>10</th>\n      <td>11</td>\n      <td>브라이 리퍼블릭</td>\n      <td>https://www.tripadvisor.co.kr/Restaurant_Revie...</td>\n    </tr>\n    <tr>\n      <th>11</th>\n      <td>12</td>\n      <td>교촌치킨 동대문1호점</td>\n      <td>https://www.tripadvisor.co.kr/Restaurant_Revie...</td>\n    </tr>\n    <tr>\n      <th>12</th>\n      <td>13</td>\n      <td>무교동 북어국집</td>\n      <td>https://www.tripadvisor.co.kr/Restaurant_Revie...</td>\n    </tr>\n    <tr>\n      <th>13</th>\n      <td>14</td>\n      <td>타볼로 24</td>\n      <td>https://www.tripadvisor.co.kr/Restaurant_Revie...</td>\n    </tr>\n    <tr>\n      <th>14</th>\n      <td>15</td>\n      <td>죠티인도레스토랑</td>\n      <td>https://www.tripadvisor.co.kr/Restaurant_Revie...</td>\n    </tr>\n    <tr>\n      <th>15</th>\n      <td>16</td>\n      <td>광화문이층집</td>\n      <td>https://www.tripadvisor.co.kr/Restaurant_Revie...</td>\n    </tr>\n    <tr>\n      <th>16</th>\n      <td>17</td>\n      <td>더 파크뷰</td>\n      <td>https://www.tripadvisor.co.kr/Restaurant_Revie...</td>\n    </tr>\n    <tr>\n      <th>17</th>\n      <td>18</td>\n      <td>브루클린 더버거조인트</td>\n      <td>https://www.tripadvisor.co.kr/Restaurant_Revie...</td>\n    </tr>\n    <tr>\n      <th>18</th>\n      <td>19</td>\n      <td>쟈니덤플링</td>\n      <td>https://www.tripadvisor.co.kr/Restaurant_Revie...</td>\n    </tr>\n    <tr>\n      <th>19</th>\n      <td>20</td>\n      <td>연남서식당</td>\n      <td>https://www.tripadvisor.co.kr/Restaurant_Revie...</td>\n    </tr>\n    <tr>\n      <th>20</th>\n      <td>21</td>\n      <td>해도식당</td>\n      <td>https://www.tripadvisor.co.kr/Restaurant_Revie...</td>\n    </tr>\n    <tr>\n      <th>21</th>\n      <td>22</td>\n      <td>라이너스 바베큐</td>\n      <td>https://www.tripadvisor.co.kr/Restaurant_Revie...</td>\n    </tr>\n    <tr>\n      <th>22</th>\n      <td>23</td>\n      <td>브레라</td>\n      <td>https://www.tripadvisor.co.kr/Restaurant_Revie...</td>\n    </tr>\n    <tr>\n      <th>23</th>\n      <td>24</td>\n      <td>홍대 닭갈비</td>\n      <td>https://www.tripadvisor.co.kr/Restaurant_Revie...</td>\n    </tr>\n    <tr>\n      <th>24</th>\n      <td>25</td>\n      <td>육전식당 - 본점</td>\n      <td>https://www.tripadvisor.co.kr/Restaurant_Revie...</td>\n    </tr>\n    <tr>\n      <th>25</th>\n      <td>26</td>\n      <td>유닭스토리</td>\n      <td>https://www.tripadvisor.co.kr/Restaurant_Revie...</td>\n    </tr>\n    <tr>\n      <th>26</th>\n      <td>27</td>\n      <td>명동닭한마리 본점</td>\n      <td>https://www.tripadvisor.co.kr/Restaurant_Revie...</td>\n    </tr>\n    <tr>\n      <th>27</th>\n      <td>28</td>\n      <td>자매집</td>\n      <td>https://www.tripadvisor.co.kr/Restaurant_Revie...</td>\n    </tr>\n    <tr>\n      <th>28</th>\n      <td>29</td>\n      <td>라세느</td>\n      <td>https://www.tripadvisor.co.kr/Restaurant_Revie...</td>\n    </tr>\n    <tr>\n      <th>29</th>\n      <td>30</td>\n      <td>미가본</td>\n      <td>https://www.tripadvisor.co.kr/Restaurant_Revie...</td>\n    </tr>\n  </tbody>\n</table>\n</div>"
     },
     "metadata": {},
     "execution_count": 7
    }
   ],
   "source": [
    "# (실습1) 추천글\n",
    "result"
   ]
  },
  {
   "cell_type": "code",
   "execution_count": 7,
   "metadata": {},
   "outputs": [],
   "source": [
    "# (실습2) 크롤링할 웹 사이트 정보\n",
    "# 'https://www.tripadvisor.co.kr/Attractions-g294197-Activities-c26-t142-Seoul.html#ATTRACTION_SORT_WRAPPER'\n",
    "\n",
    "# 서울소재 벼룩시장 정보 가져오기"
   ]
  },
  {
   "cell_type": "code",
   "execution_count": null,
   "metadata": {},
   "outputs": [],
   "source": []
  }
 ],
 "metadata": {
  "kernelspec": {
   "name": "Python 3.7.9 64-bit",
   "display_name": "Python 3.7.9 64-bit",
   "metadata": {
    "interpreter": {
     "hash": "016e0e5fd05a6e661b7c17010e2a84554a8c2fa30a97bde1e1205b573bab6161"
    }
   }
  },
  "language_info": {
   "codemirror_mode": {
    "name": "ipython",
    "version": 3
   },
   "file_extension": ".py",
   "mimetype": "text/x-python",
   "name": "python",
   "nbconvert_exporter": "python",
   "pygments_lexer": "ipython3",
   "version": "3.7.9-final"
  },
  "toc": {
   "base_numbering": 1,
   "nav_menu": {
    "height": "12px",
    "width": "164px"
   },
   "number_sections": false,
   "sideBar": true,
   "skip_h1_title": false,
   "title_cell": "Table of Contents",
   "title_sidebar": "Contents",
   "toc_cell": false,
   "toc_position": {},
   "toc_section_display": true,
   "toc_window_display": false
  }
 },
 "nbformat": 4,
 "nbformat_minor": 4
}
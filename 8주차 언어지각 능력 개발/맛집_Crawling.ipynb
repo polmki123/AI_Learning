{
 "metadata": {
  "language_info": {
   "codemirror_mode": {
    "name": "ipython",
    "version": 3
   },
   "file_extension": ".py",
   "mimetype": "text/x-python",
   "name": "python",
   "nbconvert_exporter": "python",
   "pygments_lexer": "ipython3",
   "version": "3.7.9-final"
  },
  "orig_nbformat": 2,
  "kernelspec": {
   "name": "Python 3.7.9 64-bit",
   "display_name": "Python 3.7.9 64-bit",
   "metadata": {
    "interpreter": {
     "hash": "016e0e5fd05a6e661b7c17010e2a84554a8c2fa30a97bde1e1205b573bab6161"
    }
   }
  }
 },
 "nbformat": 4,
 "nbformat_minor": 2,
 "cells": [
  {
   "cell_type": "code",
   "execution_count": 3,
   "metadata": {},
   "outputs": [],
   "source": [
    "from bs4 import BeautifulSoup\n",
    "import requests\n",
    "import pandas as pd"
   ]
  },
  {
   "cell_type": "code",
   "execution_count": 4,
   "metadata": {},
   "outputs": [],
   "source": [
    "# 크롤링할 웹 사이트 정보\n",
    "base_url = 'https://www.tripadvisor.co.kr'\n",
    "seoul_url = '/Restaurants-g294197-Seoul.html'\n",
    "\n",
    "# get html\n",
    "response = requests.get(base_url+seoul_url)\n",
    "# response.text"
   ]
  },
  {
   "cell_type": "code",
   "execution_count": 5,
   "metadata": {},
   "outputs": [],
   "source": [
    "# BeautifulSoup을 활용하여 데이터 파싱\n",
    "soup = BeautifulSoup(response.text, 'html.parser')"
   ]
  },
  {
   "cell_type": "code",
   "execution_count": 6,
   "metadata": {},
   "outputs": [
    {
     "output_type": "stream",
     "name": "stdout",
     "text": [
      "[<div class=\"wQjYiB7z\"><span><a class=\"_15_ydu6b\" href=\"/Restaurant_Review-g294197-d4070952-Reviews-N_Grill-Seoul.html\" target=\"_blank\">엔그릴</a></span></div>, <div class=\"wQjYiB7z\"><span><a class=\"_15_ydu6b\" href=\"/Restaurant_Review-g294197-d14803574-Reviews-Flavors-Seoul.html\" target=\"_blank\">1<!-- -->. <!-- -->플레이버즈</a></span></div>, <div class=\"wQjYiB7z\"><span><a class=\"_15_ydu6b\" href=\"/Restaurant_Review-g294197-d1978666-Reviews-Gusto_Taco-Seoul.html\" target=\"_blank\">2<!-- -->. <!-- -->구스토 타코</a></span></div>, <div class=\"wQjYiB7z\"><span><a class=\"_15_ydu6b\" href=\"/Restaurant_Review-g294197-d10257443-Reviews-Jihwaja-Seoul.html\" target=\"_blank\">3<!-- -->. <!-- -->지화자</a></span></div>, <div class=\"wQjYiB7z\"><span><a class=\"_15_ydu6b\" href=\"/Restaurant_Review-g294197-d14090441-Reviews-853-Seoul.html\" target=\"_blank\">4<!-- -->. <!-- -->853</a></span></div>, <div class=\"wQjYiB7z\"><span><a class=\"_15_ydu6b\" href=\"/Restaurant_Review-g294197-d6904237-Reviews-Hemlagat-Seoul.html\" target=\"_blank\">5<!-- -->. <!-- -->헴라갓</a></span></div>, <div class=\"wQjYiB7z\"><span><a class=\"_15_ydu6b\" href=\"/Restaurant_Review-g294197-d4074239-Reviews-Pairing_Room-Seoul.html\" target=\"_blank\">페어링룸</a></span></div>, <div class=\"wQjYiB7z\"><span><a class=\"_15_ydu6b\" href=\"/Restaurant_Review-g294197-d9565154-Reviews-The_Griffin_Bar-Seoul.html\" target=\"_blank\">6<!-- -->. <!-- -->더그리핀바</a></span></div>, <div class=\"wQjYiB7z\"><span><a class=\"_15_ydu6b\" href=\"/Restaurant_Review-g294197-d17423735-Reviews-Jangseng_Geongangwon-Seoul.html\" target=\"_blank\">7<!-- -->. <!-- -->장생건강원</a></span></div>, <div class=\"wQjYiB7z\"><span><a class=\"_15_ydu6b\" href=\"/Restaurant_Review-g294197-d8472275-Reviews-Choigozip_Hongdae-Seoul.html\" target=\"_blank\">8<!-- -->. <!-- -->최고집 홍대점</a></span></div>, <div class=\"wQjYiB7z\"><span><a class=\"_15_ydu6b\" href=\"/Restaurant_Review-g294197-d3200324-Reviews-Jungsik-Seoul.html\" target=\"_blank\">9<!-- -->. <!-- -->정식당</a></span></div>, <div class=\"wQjYiB7z\"><span><a class=\"_15_ydu6b\" href=\"/Restaurant_Review-g294197-d7105808-Reviews-Yang_Good-Seoul.html\" target=\"_blank\">10<!-- -->. <!-- -->양국</a></span></div>, <div class=\"wQjYiB7z\"><span><a class=\"_15_ydu6b\" href=\"/Restaurant_Review-g294197-d12347788-Reviews-Dooreyoo-Seoul.html\" target=\"_blank\">두레유</a></span></div>, <div class=\"wQjYiB7z\"><span><a class=\"_15_ydu6b\" href=\"/Restaurant_Review-g294197-d2330577-Reviews-Braai_Republic-Seoul.html\" target=\"_blank\">11<!-- -->. <!-- -->브라이 리퍼블릭</a></span></div>, <div class=\"wQjYiB7z\"><span><a class=\"_15_ydu6b\" href=\"/Restaurant_Review-g294197-d4030459-Reviews-Kyochon_Chicken_Dongdaemun_1-Seoul.html\" target=\"_blank\">12<!-- -->. <!-- -->교촌치킨 동대문1호점</a></span></div>, <div class=\"wQjYiB7z\"><span><a class=\"_15_ydu6b\" href=\"/Restaurant_Review-g294197-d1371740-Reviews-Mugyodong_Bugeokukjib-Seoul.html\" target=\"_blank\">13<!-- -->. <!-- -->무교동 북어국집</a></span></div>, <div class=\"wQjYiB7z\"><span><a class=\"_15_ydu6b\" href=\"/Restaurant_Review-g294197-d6463317-Reviews-Tavolo_24-Seoul.html\" target=\"_blank\">14<!-- -->. <!-- -->타볼로 24</a></span></div>, <div class=\"wQjYiB7z\"><span><a class=\"_15_ydu6b\" href=\"/Restaurant_Review-g294197-d2170347-Reviews-Jyoti_Indian_Restaurant-Seoul.html\" target=\"_blank\">15<!-- -->. <!-- -->죠티인도레스토랑</a></span></div>, <div class=\"wQjYiB7z\"><span><a class=\"_15_ydu6b\" href=\"/Restaurant_Review-g294197-d3371655-Reviews-Paolo_De_Maria-Seoul.html\" target=\"_blank\">파올로 데 마리아</a></span></div>, <div class=\"wQjYiB7z\"><span><a class=\"_15_ydu6b\" href=\"/Restaurant_Review-g294197-d11785643-Reviews-Gwanghwamun_Ichungjib-Seoul.html\" target=\"_blank\">16<!-- -->. <!-- -->광화문이층집</a></span></div>, <div class=\"wQjYiB7z\"><span><a class=\"_15_ydu6b\" href=\"/Restaurant_Review-g294197-d3616586-Reviews-The_Park_View-Seoul.html\" target=\"_blank\">17<!-- -->. <!-- -->더 파크뷰</a></span></div>, <div class=\"wQjYiB7z\"><span><a class=\"_15_ydu6b\" href=\"/Restaurant_Review-g294197-d4171321-Reviews-Brooklyn_The_Burger_Joint-Seoul.html\" target=\"_blank\">18<!-- -->. <!-- -->브루클린 더버거조인트</a></span></div>, <div class=\"wQjYiB7z\"><span><a class=\"_15_ydu6b\" href=\"/Restaurant_Review-g294197-d9171053-Reviews-Jonny_Dumpling-Seoul.html\" target=\"_blank\">19<!-- -->. <!-- -->쟈니덤플링</a></span></div>, <div class=\"wQjYiB7z\"><span><a class=\"_15_ydu6b\" href=\"/Restaurant_Review-g294197-d2228910-Reviews-Yeonnamseo_Sikdang-Seoul.html\" target=\"_blank\">20<!-- -->. <!-- -->연남서식당</a></span></div>, <div class=\"wQjYiB7z\"><span><a class=\"_15_ydu6b\" href=\"/Restaurant_Review-g294197-d19649980-Reviews-Oh_Beut-Seoul.html\" target=\"_blank\">오븟</a></span></div>, <div class=\"wQjYiB7z\"><span><a class=\"_15_ydu6b\" href=\"/Restaurant_Review-g294197-d14141515-Reviews-Haedo_Sikdang-Seoul.html\" target=\"_blank\">21<!-- -->. <!-- -->해도식당</a></span></div>, <div class=\"wQjYiB7z\"><span><a class=\"_15_ydu6b\" href=\"/Restaurant_Review-g294197-d7033805-Reviews-Linus_Bama_Style_BBQ-Seoul.html\" target=\"_blank\">22<!-- -->. <!-- -->라이너스 바베큐</a></span></div>, <div class=\"wQjYiB7z\"><span><a class=\"_15_ydu6b\" href=\"/Restaurant_Review-g294197-d8135346-Reviews-Brera-Seoul.html\" target=\"_blank\">23<!-- -->. <!-- -->브레라</a></span></div>, <div class=\"wQjYiB7z\"><span><a class=\"_15_ydu6b\" href=\"/Restaurant_Review-g294197-d7132369-Reviews-Hongdae_Dakgalbi-Seoul.html\" target=\"_blank\">24<!-- -->. <!-- -->홍대 닭갈비</a></span></div>, <div class=\"wQjYiB7z\"><span><a class=\"_15_ydu6b\" href=\"/Restaurant_Review-g294197-d9205326-Reviews-Yukjeon_Sikdang_Main_Store-Seoul.html\" target=\"_blank\">25<!-- -->. <!-- -->육전식당 - 본점</a></span></div>, <div class=\"wQjYiB7z\"><span><a class=\"_15_ydu6b\" href=\"/Restaurant_Review-g294197-d8681713-Reviews-Harmonium-Seoul.html\" target=\"_blank\">아르모니움</a></span></div>, <div class=\"wQjYiB7z\"><span><a class=\"_15_ydu6b\" href=\"/Restaurant_Review-g294197-d9203939-Reviews-Yu_Chicken_Story-Seoul.html\" target=\"_blank\">26<!-- -->. <!-- -->유닭스토리</a></span></div>, <div class=\"wQjYiB7z\"><span><a class=\"_15_ydu6b\" href=\"/Restaurant_Review-g294197-d2228988-Reviews-Myeongdong_Dakhanmari_Main-Seoul.html\" target=\"_blank\">27<!-- -->. <!-- -->명동닭한마리 본점</a></span></div>, <div class=\"wQjYiB7z\"><span><a class=\"_15_ydu6b\" href=\"/Restaurant_Review-g294197-d3922956-Reviews-Jamaejip-Seoul.html\" target=\"_blank\">28<!-- -->. <!-- -->자매집</a></span></div>, <div class=\"wQjYiB7z\"><span><a class=\"_15_ydu6b\" href=\"/Restaurant_Review-g294197-d4075980-Reviews-La_Seine-Seoul.html\" target=\"_blank\">29<!-- -->. <!-- -->라세느</a></span></div>, <div class=\"wQjYiB7z\"><span><a class=\"_15_ydu6b\" href=\"/Restaurant_Review-g294197-d1237999-Reviews-Migabon-Seoul.html\" target=\"_blank\">30<!-- -->. <!-- -->미가본</a></span></div>]\n"
     ]
    }
   ],
   "source": [
    "# 맛집 목록 가져오기\n",
    "lists = soup.findAll('div', {'class' : 'wQjYiB7z'}) \n",
    "\n",
    "# for item in lists:\n",
    "#     tem = str(item)\n",
    "print(lists)"
   ]
  },
  {
   "cell_type": "code",
   "execution_count": 7,
   "metadata": {},
   "outputs": [],
   "source": [
    "# 데이터 파싱하기\n",
    "rest_id_list = []\n",
    "rest_name_list = []\n",
    "rest_url_list = []\n",
    "\n",
    "for item in lists:\n",
    "    # 링크 가져오기\n",
    "    hrefs = item.find('a')\n",
    "    href = hrefs.get('href')\n",
    "    full_url = base_url + href\n",
    "\n",
    "    # 순위와 이름 분리하기, 광고 제거하기\n",
    "    #[1 , 장생건강원]\n",
    "    #[2,  무슨음식점]\n",
    "    #[광고음식점]\n",
    "    \n",
    "    name = item.text.split('.')\n",
    "\n",
    "    if len(name) == 2:\n",
    "        rest_id = name[0]\n",
    "        rest_name = name[1]\n",
    "        rest_url = full_url\n",
    "        #데이터 프레임을 만들기 위한 리스트\n",
    "        rest_id_list.append(rest_id)\n",
    "        rest_name_list.append(rest_name)\n",
    "        rest_url_list.append(rest_url)\n",
    "#         print('[ID]' + rest_id + ' [NAME]' + rest_name + ' [URL]' + rest_url)\n",
    "        \n",
    "result = pd.DataFrame(data={'[ID]' : rest_id_list, '[NAME]' : rest_name_list, '[URL]' : rest_url_list})\n",
    "# print(result)\n",
    "# result"
   ]
  },
  {
   "cell_type": "code",
   "execution_count": 8,
   "metadata": {},
   "outputs": [
    {
     "output_type": "execute_result",
     "data": {
      "text/plain": [
       "   [ID]        [NAME]                                              [URL]\n",
       "0     1         플레이버즈  https://www.tripadvisor.co.kr/Restaurant_Revie...\n",
       "1     2        구스토 타코  https://www.tripadvisor.co.kr/Restaurant_Revie...\n",
       "2     3           지화자  https://www.tripadvisor.co.kr/Restaurant_Revie...\n",
       "3     4           853  https://www.tripadvisor.co.kr/Restaurant_Revie...\n",
       "4     5           헴라갓  https://www.tripadvisor.co.kr/Restaurant_Revie...\n",
       "5     6         더그리핀바  https://www.tripadvisor.co.kr/Restaurant_Revie...\n",
       "6     7         장생건강원  https://www.tripadvisor.co.kr/Restaurant_Revie...\n",
       "7     8       최고집 홍대점  https://www.tripadvisor.co.kr/Restaurant_Revie...\n",
       "8     9           정식당  https://www.tripadvisor.co.kr/Restaurant_Revie...\n",
       "9    10            양국  https://www.tripadvisor.co.kr/Restaurant_Revie...\n",
       "10   11      브라이 리퍼블릭  https://www.tripadvisor.co.kr/Restaurant_Revie...\n",
       "11   12   교촌치킨 동대문1호점  https://www.tripadvisor.co.kr/Restaurant_Revie...\n",
       "12   13      무교동 북어국집  https://www.tripadvisor.co.kr/Restaurant_Revie...\n",
       "13   14        타볼로 24  https://www.tripadvisor.co.kr/Restaurant_Revie...\n",
       "14   15      죠티인도레스토랑  https://www.tripadvisor.co.kr/Restaurant_Revie...\n",
       "15   16        광화문이층집  https://www.tripadvisor.co.kr/Restaurant_Revie...\n",
       "16   17         더 파크뷰  https://www.tripadvisor.co.kr/Restaurant_Revie...\n",
       "17   18   브루클린 더버거조인트  https://www.tripadvisor.co.kr/Restaurant_Revie...\n",
       "18   19         쟈니덤플링  https://www.tripadvisor.co.kr/Restaurant_Revie...\n",
       "19   20         연남서식당  https://www.tripadvisor.co.kr/Restaurant_Revie...\n",
       "20   21          해도식당  https://www.tripadvisor.co.kr/Restaurant_Revie...\n",
       "21   22      라이너스 바베큐  https://www.tripadvisor.co.kr/Restaurant_Revie...\n",
       "22   23           브레라  https://www.tripadvisor.co.kr/Restaurant_Revie...\n",
       "23   24        홍대 닭갈비  https://www.tripadvisor.co.kr/Restaurant_Revie...\n",
       "24   25     육전식당 - 본점  https://www.tripadvisor.co.kr/Restaurant_Revie...\n",
       "25   26         유닭스토리  https://www.tripadvisor.co.kr/Restaurant_Revie...\n",
       "26   27     명동닭한마리 본점  https://www.tripadvisor.co.kr/Restaurant_Revie...\n",
       "27   28           자매집  https://www.tripadvisor.co.kr/Restaurant_Revie...\n",
       "28   29           라세느  https://www.tripadvisor.co.kr/Restaurant_Revie...\n",
       "29   30           미가본  https://www.tripadvisor.co.kr/Restaurant_Revie..."
      ],
      "text/html": "<div>\n<style scoped>\n    .dataframe tbody tr th:only-of-type {\n        vertical-align: middle;\n    }\n\n    .dataframe tbody tr th {\n        vertical-align: top;\n    }\n\n    .dataframe thead th {\n        text-align: right;\n    }\n</style>\n<table border=\"1\" class=\"dataframe\">\n  <thead>\n    <tr style=\"text-align: right;\">\n      <th></th>\n      <th>[ID]</th>\n      <th>[NAME]</th>\n      <th>[URL]</th>\n    </tr>\n  </thead>\n  <tbody>\n    <tr>\n      <th>0</th>\n      <td>1</td>\n      <td>플레이버즈</td>\n      <td>https://www.tripadvisor.co.kr/Restaurant_Revie...</td>\n    </tr>\n    <tr>\n      <th>1</th>\n      <td>2</td>\n      <td>구스토 타코</td>\n      <td>https://www.tripadvisor.co.kr/Restaurant_Revie...</td>\n    </tr>\n    <tr>\n      <th>2</th>\n      <td>3</td>\n      <td>지화자</td>\n      <td>https://www.tripadvisor.co.kr/Restaurant_Revie...</td>\n    </tr>\n    <tr>\n      <th>3</th>\n      <td>4</td>\n      <td>853</td>\n      <td>https://www.tripadvisor.co.kr/Restaurant_Revie...</td>\n    </tr>\n    <tr>\n      <th>4</th>\n      <td>5</td>\n      <td>헴라갓</td>\n      <td>https://www.tripadvisor.co.kr/Restaurant_Revie...</td>\n    </tr>\n    <tr>\n      <th>5</th>\n      <td>6</td>\n      <td>더그리핀바</td>\n      <td>https://www.tripadvisor.co.kr/Restaurant_Revie...</td>\n    </tr>\n    <tr>\n      <th>6</th>\n      <td>7</td>\n      <td>장생건강원</td>\n      <td>https://www.tripadvisor.co.kr/Restaurant_Revie...</td>\n    </tr>\n    <tr>\n      <th>7</th>\n      <td>8</td>\n      <td>최고집 홍대점</td>\n      <td>https://www.tripadvisor.co.kr/Restaurant_Revie...</td>\n    </tr>\n    <tr>\n      <th>8</th>\n      <td>9</td>\n      <td>정식당</td>\n      <td>https://www.tripadvisor.co.kr/Restaurant_Revie...</td>\n    </tr>\n    <tr>\n      <th>9</th>\n      <td>10</td>\n      <td>양국</td>\n      <td>https://www.tripadvisor.co.kr/Restaurant_Revie...</td>\n    </tr>\n    <tr>\n      <th>10</th>\n      <td>11</td>\n      <td>브라이 리퍼블릭</td>\n      <td>https://www.tripadvisor.co.kr/Restaurant_Revie...</td>\n    </tr>\n    <tr>\n      <th>11</th>\n      <td>12</td>\n      <td>교촌치킨 동대문1호점</td>\n      <td>https://www.tripadvisor.co.kr/Restaurant_Revie...</td>\n    </tr>\n    <tr>\n      <th>12</th>\n      <td>13</td>\n      <td>무교동 북어국집</td>\n      <td>https://www.tripadvisor.co.kr/Restaurant_Revie...</td>\n    </tr>\n    <tr>\n      <th>13</th>\n      <td>14</td>\n      <td>타볼로 24</td>\n      <td>https://www.tripadvisor.co.kr/Restaurant_Revie...</td>\n    </tr>\n    <tr>\n      <th>14</th>\n      <td>15</td>\n      <td>죠티인도레스토랑</td>\n      <td>https://www.tripadvisor.co.kr/Restaurant_Revie...</td>\n    </tr>\n    <tr>\n      <th>15</th>\n      <td>16</td>\n      <td>광화문이층집</td>\n      <td>https://www.tripadvisor.co.kr/Restaurant_Revie...</td>\n    </tr>\n    <tr>\n      <th>16</th>\n      <td>17</td>\n      <td>더 파크뷰</td>\n      <td>https://www.tripadvisor.co.kr/Restaurant_Revie...</td>\n    </tr>\n    <tr>\n      <th>17</th>\n      <td>18</td>\n      <td>브루클린 더버거조인트</td>\n      <td>https://www.tripadvisor.co.kr/Restaurant_Revie...</td>\n    </tr>\n    <tr>\n      <th>18</th>\n      <td>19</td>\n      <td>쟈니덤플링</td>\n      <td>https://www.tripadvisor.co.kr/Restaurant_Revie...</td>\n    </tr>\n    <tr>\n      <th>19</th>\n      <td>20</td>\n      <td>연남서식당</td>\n      <td>https://www.tripadvisor.co.kr/Restaurant_Revie...</td>\n    </tr>\n    <tr>\n      <th>20</th>\n      <td>21</td>\n      <td>해도식당</td>\n      <td>https://www.tripadvisor.co.kr/Restaurant_Revie...</td>\n    </tr>\n    <tr>\n      <th>21</th>\n      <td>22</td>\n      <td>라이너스 바베큐</td>\n      <td>https://www.tripadvisor.co.kr/Restaurant_Revie...</td>\n    </tr>\n    <tr>\n      <th>22</th>\n      <td>23</td>\n      <td>브레라</td>\n      <td>https://www.tripadvisor.co.kr/Restaurant_Revie...</td>\n    </tr>\n    <tr>\n      <th>23</th>\n      <td>24</td>\n      <td>홍대 닭갈비</td>\n      <td>https://www.tripadvisor.co.kr/Restaurant_Revie...</td>\n    </tr>\n    <tr>\n      <th>24</th>\n      <td>25</td>\n      <td>육전식당 - 본점</td>\n      <td>https://www.tripadvisor.co.kr/Restaurant_Revie...</td>\n    </tr>\n    <tr>\n      <th>25</th>\n      <td>26</td>\n      <td>유닭스토리</td>\n      <td>https://www.tripadvisor.co.kr/Restaurant_Revie...</td>\n    </tr>\n    <tr>\n      <th>26</th>\n      <td>27</td>\n      <td>명동닭한마리 본점</td>\n      <td>https://www.tripadvisor.co.kr/Restaurant_Revie...</td>\n    </tr>\n    <tr>\n      <th>27</th>\n      <td>28</td>\n      <td>자매집</td>\n      <td>https://www.tripadvisor.co.kr/Restaurant_Revie...</td>\n    </tr>\n    <tr>\n      <th>28</th>\n      <td>29</td>\n      <td>라세느</td>\n      <td>https://www.tripadvisor.co.kr/Restaurant_Revie...</td>\n    </tr>\n    <tr>\n      <th>29</th>\n      <td>30</td>\n      <td>미가본</td>\n      <td>https://www.tripadvisor.co.kr/Restaurant_Revie...</td>\n    </tr>\n  </tbody>\n</table>\n</div>"
     },
     "metadata": {},
     "execution_count": 8
    }
   ],
   "source": [
    "# (실습1) 추천글\n",
    "result"
   ]
  },
  {
   "cell_type": "code",
   "execution_count": null,
   "metadata": {},
   "outputs": [],
   "source": [
    "# (실습2) 크롤링할 웹 사이트 정보\n",
    "# 'https://www.tripadvisor.co.kr/Attractions-g294197-Activities-c26-t142-Seoul.html#ATTRACTION_SORT_WRAPPER'\n",
    "\n",
    "# 서울소재 벼룩시장 정보 가져오기"
   ]
  },
  {
   "cell_type": "code",
   "execution_count": 16,
   "metadata": {},
   "outputs": [
    {
     "output_type": "error",
     "ename": "ConnectionError",
     "evalue": "('Connection aborted.', RemoteDisconnected('Remote end closed connection without response'))",
     "traceback": [
      "\u001b[1;31m---------------------------------------------------------------------------\u001b[0m",
      "\u001b[1;31mRemoteDisconnected\u001b[0m                        Traceback (most recent call last)",
      "\u001b[1;32m~\\AppData\\Local\\Programs\\anaconda3\\envs\\Rich\\lib\\site-packages\\urllib3\\connectionpool.py\u001b[0m in \u001b[0;36murlopen\u001b[1;34m(self, method, url, body, headers, retries, redirect, assert_same_host, timeout, pool_timeout, release_conn, chunked, body_pos, **response_kw)\u001b[0m\n\u001b[0;32m    676\u001b[0m                 \u001b[0mheaders\u001b[0m\u001b[1;33m=\u001b[0m\u001b[0mheaders\u001b[0m\u001b[1;33m,\u001b[0m\u001b[1;33m\u001b[0m\u001b[1;33m\u001b[0m\u001b[0m\n\u001b[1;32m--> 677\u001b[1;33m                 \u001b[0mchunked\u001b[0m\u001b[1;33m=\u001b[0m\u001b[0mchunked\u001b[0m\u001b[1;33m,\u001b[0m\u001b[1;33m\u001b[0m\u001b[1;33m\u001b[0m\u001b[0m\n\u001b[0m\u001b[0;32m    678\u001b[0m             )\n",
      "\u001b[1;32m~\\AppData\\Local\\Programs\\anaconda3\\envs\\Rich\\lib\\site-packages\\urllib3\\connectionpool.py\u001b[0m in \u001b[0;36m_make_request\u001b[1;34m(self, conn, method, url, timeout, chunked, **httplib_request_kw)\u001b[0m\n\u001b[0;32m    425\u001b[0m                     \u001b[1;31m# Otherwise it looks like a bug in the code.\u001b[0m\u001b[1;33m\u001b[0m\u001b[1;33m\u001b[0m\u001b[1;33m\u001b[0m\u001b[0m\n\u001b[1;32m--> 426\u001b[1;33m                     \u001b[0msix\u001b[0m\u001b[1;33m.\u001b[0m\u001b[0mraise_from\u001b[0m\u001b[1;33m(\u001b[0m\u001b[0me\u001b[0m\u001b[1;33m,\u001b[0m \u001b[1;32mNone\u001b[0m\u001b[1;33m)\u001b[0m\u001b[1;33m\u001b[0m\u001b[1;33m\u001b[0m\u001b[0m\n\u001b[0m\u001b[0;32m    427\u001b[0m         \u001b[1;32mexcept\u001b[0m \u001b[1;33m(\u001b[0m\u001b[0mSocketTimeout\u001b[0m\u001b[1;33m,\u001b[0m \u001b[0mBaseSSLError\u001b[0m\u001b[1;33m,\u001b[0m \u001b[0mSocketError\u001b[0m\u001b[1;33m)\u001b[0m \u001b[1;32mas\u001b[0m \u001b[0me\u001b[0m\u001b[1;33m:\u001b[0m\u001b[1;33m\u001b[0m\u001b[1;33m\u001b[0m\u001b[0m\n",
      "\u001b[1;32m~\\AppData\\Local\\Programs\\anaconda3\\envs\\Rich\\lib\\site-packages\\urllib3\\packages\\six.py\u001b[0m in \u001b[0;36mraise_from\u001b[1;34m(value, from_value)\u001b[0m\n",
      "\u001b[1;32m~\\AppData\\Local\\Programs\\anaconda3\\envs\\Rich\\lib\\site-packages\\urllib3\\connectionpool.py\u001b[0m in \u001b[0;36m_make_request\u001b[1;34m(self, conn, method, url, timeout, chunked, **httplib_request_kw)\u001b[0m\n\u001b[0;32m    420\u001b[0m                 \u001b[1;32mtry\u001b[0m\u001b[1;33m:\u001b[0m\u001b[1;33m\u001b[0m\u001b[1;33m\u001b[0m\u001b[0m\n\u001b[1;32m--> 421\u001b[1;33m                     \u001b[0mhttplib_response\u001b[0m \u001b[1;33m=\u001b[0m \u001b[0mconn\u001b[0m\u001b[1;33m.\u001b[0m\u001b[0mgetresponse\u001b[0m\u001b[1;33m(\u001b[0m\u001b[1;33m)\u001b[0m\u001b[1;33m\u001b[0m\u001b[1;33m\u001b[0m\u001b[0m\n\u001b[0m\u001b[0;32m    422\u001b[0m                 \u001b[1;32mexcept\u001b[0m \u001b[0mBaseException\u001b[0m \u001b[1;32mas\u001b[0m \u001b[0me\u001b[0m\u001b[1;33m:\u001b[0m\u001b[1;33m\u001b[0m\u001b[1;33m\u001b[0m\u001b[0m\n",
      "\u001b[1;32m~\\AppData\\Local\\Programs\\anaconda3\\envs\\Rich\\lib\\http\\client.py\u001b[0m in \u001b[0;36mgetresponse\u001b[1;34m(self)\u001b[0m\n\u001b[0;32m   1368\u001b[0m             \u001b[1;32mtry\u001b[0m\u001b[1;33m:\u001b[0m\u001b[1;33m\u001b[0m\u001b[1;33m\u001b[0m\u001b[0m\n\u001b[1;32m-> 1369\u001b[1;33m                 \u001b[0mresponse\u001b[0m\u001b[1;33m.\u001b[0m\u001b[0mbegin\u001b[0m\u001b[1;33m(\u001b[0m\u001b[1;33m)\u001b[0m\u001b[1;33m\u001b[0m\u001b[1;33m\u001b[0m\u001b[0m\n\u001b[0m\u001b[0;32m   1370\u001b[0m             \u001b[1;32mexcept\u001b[0m \u001b[0mConnectionError\u001b[0m\u001b[1;33m:\u001b[0m\u001b[1;33m\u001b[0m\u001b[1;33m\u001b[0m\u001b[0m\n",
      "\u001b[1;32m~\\AppData\\Local\\Programs\\anaconda3\\envs\\Rich\\lib\\http\\client.py\u001b[0m in \u001b[0;36mbegin\u001b[1;34m(self)\u001b[0m\n\u001b[0;32m    309\u001b[0m         \u001b[1;32mwhile\u001b[0m \u001b[1;32mTrue\u001b[0m\u001b[1;33m:\u001b[0m\u001b[1;33m\u001b[0m\u001b[1;33m\u001b[0m\u001b[0m\n\u001b[1;32m--> 310\u001b[1;33m             \u001b[0mversion\u001b[0m\u001b[1;33m,\u001b[0m \u001b[0mstatus\u001b[0m\u001b[1;33m,\u001b[0m \u001b[0mreason\u001b[0m \u001b[1;33m=\u001b[0m \u001b[0mself\u001b[0m\u001b[1;33m.\u001b[0m\u001b[0m_read_status\u001b[0m\u001b[1;33m(\u001b[0m\u001b[1;33m)\u001b[0m\u001b[1;33m\u001b[0m\u001b[1;33m\u001b[0m\u001b[0m\n\u001b[0m\u001b[0;32m    311\u001b[0m             \u001b[1;32mif\u001b[0m \u001b[0mstatus\u001b[0m \u001b[1;33m!=\u001b[0m \u001b[0mCONTINUE\u001b[0m\u001b[1;33m:\u001b[0m\u001b[1;33m\u001b[0m\u001b[1;33m\u001b[0m\u001b[0m\n",
      "\u001b[1;32m~\\AppData\\Local\\Programs\\anaconda3\\envs\\Rich\\lib\\http\\client.py\u001b[0m in \u001b[0;36m_read_status\u001b[1;34m(self)\u001b[0m\n\u001b[0;32m    278\u001b[0m             \u001b[1;31m# sending a valid response.\u001b[0m\u001b[1;33m\u001b[0m\u001b[1;33m\u001b[0m\u001b[1;33m\u001b[0m\u001b[0m\n\u001b[1;32m--> 279\u001b[1;33m             raise RemoteDisconnected(\"Remote end closed connection without\"\n\u001b[0m\u001b[0;32m    280\u001b[0m                                      \" response\")\n",
      "\u001b[1;31mRemoteDisconnected\u001b[0m: Remote end closed connection without response",
      "\nDuring handling of the above exception, another exception occurred:\n",
      "\u001b[1;31mProtocolError\u001b[0m                             Traceback (most recent call last)",
      "\u001b[1;32m~\\AppData\\Local\\Programs\\anaconda3\\envs\\Rich\\lib\\site-packages\\requests\\adapters.py\u001b[0m in \u001b[0;36msend\u001b[1;34m(self, request, stream, timeout, verify, cert, proxies)\u001b[0m\n\u001b[0;32m    448\u001b[0m                     \u001b[0mretries\u001b[0m\u001b[1;33m=\u001b[0m\u001b[0mself\u001b[0m\u001b[1;33m.\u001b[0m\u001b[0mmax_retries\u001b[0m\u001b[1;33m,\u001b[0m\u001b[1;33m\u001b[0m\u001b[1;33m\u001b[0m\u001b[0m\n\u001b[1;32m--> 449\u001b[1;33m                     \u001b[0mtimeout\u001b[0m\u001b[1;33m=\u001b[0m\u001b[0mtimeout\u001b[0m\u001b[1;33m\u001b[0m\u001b[1;33m\u001b[0m\u001b[0m\n\u001b[0m\u001b[0;32m    450\u001b[0m                 )\n",
      "\u001b[1;32m~\\AppData\\Local\\Programs\\anaconda3\\envs\\Rich\\lib\\site-packages\\urllib3\\connectionpool.py\u001b[0m in \u001b[0;36murlopen\u001b[1;34m(self, method, url, body, headers, retries, redirect, assert_same_host, timeout, pool_timeout, release_conn, chunked, body_pos, **response_kw)\u001b[0m\n\u001b[0;32m    726\u001b[0m             retries = retries.increment(\n\u001b[1;32m--> 727\u001b[1;33m                 \u001b[0mmethod\u001b[0m\u001b[1;33m,\u001b[0m \u001b[0murl\u001b[0m\u001b[1;33m,\u001b[0m \u001b[0merror\u001b[0m\u001b[1;33m=\u001b[0m\u001b[0me\u001b[0m\u001b[1;33m,\u001b[0m \u001b[0m_pool\u001b[0m\u001b[1;33m=\u001b[0m\u001b[0mself\u001b[0m\u001b[1;33m,\u001b[0m \u001b[0m_stacktrace\u001b[0m\u001b[1;33m=\u001b[0m\u001b[0msys\u001b[0m\u001b[1;33m.\u001b[0m\u001b[0mexc_info\u001b[0m\u001b[1;33m(\u001b[0m\u001b[1;33m)\u001b[0m\u001b[1;33m[\u001b[0m\u001b[1;36m2\u001b[0m\u001b[1;33m]\u001b[0m\u001b[1;33m\u001b[0m\u001b[1;33m\u001b[0m\u001b[0m\n\u001b[0m\u001b[0;32m    728\u001b[0m             )\n",
      "\u001b[1;32m~\\AppData\\Local\\Programs\\anaconda3\\envs\\Rich\\lib\\site-packages\\urllib3\\util\\retry.py\u001b[0m in \u001b[0;36mincrement\u001b[1;34m(self, method, url, response, error, _pool, _stacktrace)\u001b[0m\n\u001b[0;32m    402\u001b[0m             \u001b[1;32mif\u001b[0m \u001b[0mread\u001b[0m \u001b[1;32mis\u001b[0m \u001b[1;32mFalse\u001b[0m \u001b[1;32mor\u001b[0m \u001b[1;32mnot\u001b[0m \u001b[0mself\u001b[0m\u001b[1;33m.\u001b[0m\u001b[0m_is_method_retryable\u001b[0m\u001b[1;33m(\u001b[0m\u001b[0mmethod\u001b[0m\u001b[1;33m)\u001b[0m\u001b[1;33m:\u001b[0m\u001b[1;33m\u001b[0m\u001b[1;33m\u001b[0m\u001b[0m\n\u001b[1;32m--> 403\u001b[1;33m                 \u001b[1;32mraise\u001b[0m \u001b[0msix\u001b[0m\u001b[1;33m.\u001b[0m\u001b[0mreraise\u001b[0m\u001b[1;33m(\u001b[0m\u001b[0mtype\u001b[0m\u001b[1;33m(\u001b[0m\u001b[0merror\u001b[0m\u001b[1;33m)\u001b[0m\u001b[1;33m,\u001b[0m \u001b[0merror\u001b[0m\u001b[1;33m,\u001b[0m \u001b[0m_stacktrace\u001b[0m\u001b[1;33m)\u001b[0m\u001b[1;33m\u001b[0m\u001b[1;33m\u001b[0m\u001b[0m\n\u001b[0m\u001b[0;32m    404\u001b[0m             \u001b[1;32melif\u001b[0m \u001b[0mread\u001b[0m \u001b[1;32mis\u001b[0m \u001b[1;32mnot\u001b[0m \u001b[1;32mNone\u001b[0m\u001b[1;33m:\u001b[0m\u001b[1;33m\u001b[0m\u001b[1;33m\u001b[0m\u001b[0m\n",
      "\u001b[1;32m~\\AppData\\Local\\Programs\\anaconda3\\envs\\Rich\\lib\\site-packages\\urllib3\\packages\\six.py\u001b[0m in \u001b[0;36mreraise\u001b[1;34m(tp, value, tb)\u001b[0m\n\u001b[0;32m    733\u001b[0m             \u001b[1;32mif\u001b[0m \u001b[0mvalue\u001b[0m\u001b[1;33m.\u001b[0m\u001b[0m__traceback__\u001b[0m \u001b[1;32mis\u001b[0m \u001b[1;32mnot\u001b[0m \u001b[0mtb\u001b[0m\u001b[1;33m:\u001b[0m\u001b[1;33m\u001b[0m\u001b[1;33m\u001b[0m\u001b[0m\n\u001b[1;32m--> 734\u001b[1;33m                 \u001b[1;32mraise\u001b[0m \u001b[0mvalue\u001b[0m\u001b[1;33m.\u001b[0m\u001b[0mwith_traceback\u001b[0m\u001b[1;33m(\u001b[0m\u001b[0mtb\u001b[0m\u001b[1;33m)\u001b[0m\u001b[1;33m\u001b[0m\u001b[1;33m\u001b[0m\u001b[0m\n\u001b[0m\u001b[0;32m    735\u001b[0m             \u001b[1;32mraise\u001b[0m \u001b[0mvalue\u001b[0m\u001b[1;33m\u001b[0m\u001b[1;33m\u001b[0m\u001b[0m\n",
      "\u001b[1;32m~\\AppData\\Local\\Programs\\anaconda3\\envs\\Rich\\lib\\site-packages\\urllib3\\connectionpool.py\u001b[0m in \u001b[0;36murlopen\u001b[1;34m(self, method, url, body, headers, retries, redirect, assert_same_host, timeout, pool_timeout, release_conn, chunked, body_pos, **response_kw)\u001b[0m\n\u001b[0;32m    676\u001b[0m                 \u001b[0mheaders\u001b[0m\u001b[1;33m=\u001b[0m\u001b[0mheaders\u001b[0m\u001b[1;33m,\u001b[0m\u001b[1;33m\u001b[0m\u001b[1;33m\u001b[0m\u001b[0m\n\u001b[1;32m--> 677\u001b[1;33m                 \u001b[0mchunked\u001b[0m\u001b[1;33m=\u001b[0m\u001b[0mchunked\u001b[0m\u001b[1;33m,\u001b[0m\u001b[1;33m\u001b[0m\u001b[1;33m\u001b[0m\u001b[0m\n\u001b[0m\u001b[0;32m    678\u001b[0m             )\n",
      "\u001b[1;32m~\\AppData\\Local\\Programs\\anaconda3\\envs\\Rich\\lib\\site-packages\\urllib3\\connectionpool.py\u001b[0m in \u001b[0;36m_make_request\u001b[1;34m(self, conn, method, url, timeout, chunked, **httplib_request_kw)\u001b[0m\n\u001b[0;32m    425\u001b[0m                     \u001b[1;31m# Otherwise it looks like a bug in the code.\u001b[0m\u001b[1;33m\u001b[0m\u001b[1;33m\u001b[0m\u001b[1;33m\u001b[0m\u001b[0m\n\u001b[1;32m--> 426\u001b[1;33m                     \u001b[0msix\u001b[0m\u001b[1;33m.\u001b[0m\u001b[0mraise_from\u001b[0m\u001b[1;33m(\u001b[0m\u001b[0me\u001b[0m\u001b[1;33m,\u001b[0m \u001b[1;32mNone\u001b[0m\u001b[1;33m)\u001b[0m\u001b[1;33m\u001b[0m\u001b[1;33m\u001b[0m\u001b[0m\n\u001b[0m\u001b[0;32m    427\u001b[0m         \u001b[1;32mexcept\u001b[0m \u001b[1;33m(\u001b[0m\u001b[0mSocketTimeout\u001b[0m\u001b[1;33m,\u001b[0m \u001b[0mBaseSSLError\u001b[0m\u001b[1;33m,\u001b[0m \u001b[0mSocketError\u001b[0m\u001b[1;33m)\u001b[0m \u001b[1;32mas\u001b[0m \u001b[0me\u001b[0m\u001b[1;33m:\u001b[0m\u001b[1;33m\u001b[0m\u001b[1;33m\u001b[0m\u001b[0m\n",
      "\u001b[1;32m~\\AppData\\Local\\Programs\\anaconda3\\envs\\Rich\\lib\\site-packages\\urllib3\\packages\\six.py\u001b[0m in \u001b[0;36mraise_from\u001b[1;34m(value, from_value)\u001b[0m\n",
      "\u001b[1;32m~\\AppData\\Local\\Programs\\anaconda3\\envs\\Rich\\lib\\site-packages\\urllib3\\connectionpool.py\u001b[0m in \u001b[0;36m_make_request\u001b[1;34m(self, conn, method, url, timeout, chunked, **httplib_request_kw)\u001b[0m\n\u001b[0;32m    420\u001b[0m                 \u001b[1;32mtry\u001b[0m\u001b[1;33m:\u001b[0m\u001b[1;33m\u001b[0m\u001b[1;33m\u001b[0m\u001b[0m\n\u001b[1;32m--> 421\u001b[1;33m                     \u001b[0mhttplib_response\u001b[0m \u001b[1;33m=\u001b[0m \u001b[0mconn\u001b[0m\u001b[1;33m.\u001b[0m\u001b[0mgetresponse\u001b[0m\u001b[1;33m(\u001b[0m\u001b[1;33m)\u001b[0m\u001b[1;33m\u001b[0m\u001b[1;33m\u001b[0m\u001b[0m\n\u001b[0m\u001b[0;32m    422\u001b[0m                 \u001b[1;32mexcept\u001b[0m \u001b[0mBaseException\u001b[0m \u001b[1;32mas\u001b[0m \u001b[0me\u001b[0m\u001b[1;33m:\u001b[0m\u001b[1;33m\u001b[0m\u001b[1;33m\u001b[0m\u001b[0m\n",
      "\u001b[1;32m~\\AppData\\Local\\Programs\\anaconda3\\envs\\Rich\\lib\\http\\client.py\u001b[0m in \u001b[0;36mgetresponse\u001b[1;34m(self)\u001b[0m\n\u001b[0;32m   1368\u001b[0m             \u001b[1;32mtry\u001b[0m\u001b[1;33m:\u001b[0m\u001b[1;33m\u001b[0m\u001b[1;33m\u001b[0m\u001b[0m\n\u001b[1;32m-> 1369\u001b[1;33m                 \u001b[0mresponse\u001b[0m\u001b[1;33m.\u001b[0m\u001b[0mbegin\u001b[0m\u001b[1;33m(\u001b[0m\u001b[1;33m)\u001b[0m\u001b[1;33m\u001b[0m\u001b[1;33m\u001b[0m\u001b[0m\n\u001b[0m\u001b[0;32m   1370\u001b[0m             \u001b[1;32mexcept\u001b[0m \u001b[0mConnectionError\u001b[0m\u001b[1;33m:\u001b[0m\u001b[1;33m\u001b[0m\u001b[1;33m\u001b[0m\u001b[0m\n",
      "\u001b[1;32m~\\AppData\\Local\\Programs\\anaconda3\\envs\\Rich\\lib\\http\\client.py\u001b[0m in \u001b[0;36mbegin\u001b[1;34m(self)\u001b[0m\n\u001b[0;32m    309\u001b[0m         \u001b[1;32mwhile\u001b[0m \u001b[1;32mTrue\u001b[0m\u001b[1;33m:\u001b[0m\u001b[1;33m\u001b[0m\u001b[1;33m\u001b[0m\u001b[0m\n\u001b[1;32m--> 310\u001b[1;33m             \u001b[0mversion\u001b[0m\u001b[1;33m,\u001b[0m \u001b[0mstatus\u001b[0m\u001b[1;33m,\u001b[0m \u001b[0mreason\u001b[0m \u001b[1;33m=\u001b[0m \u001b[0mself\u001b[0m\u001b[1;33m.\u001b[0m\u001b[0m_read_status\u001b[0m\u001b[1;33m(\u001b[0m\u001b[1;33m)\u001b[0m\u001b[1;33m\u001b[0m\u001b[1;33m\u001b[0m\u001b[0m\n\u001b[0m\u001b[0;32m    311\u001b[0m             \u001b[1;32mif\u001b[0m \u001b[0mstatus\u001b[0m \u001b[1;33m!=\u001b[0m \u001b[0mCONTINUE\u001b[0m\u001b[1;33m:\u001b[0m\u001b[1;33m\u001b[0m\u001b[1;33m\u001b[0m\u001b[0m\n",
      "\u001b[1;32m~\\AppData\\Local\\Programs\\anaconda3\\envs\\Rich\\lib\\http\\client.py\u001b[0m in \u001b[0;36m_read_status\u001b[1;34m(self)\u001b[0m\n\u001b[0;32m    278\u001b[0m             \u001b[1;31m# sending a valid response.\u001b[0m\u001b[1;33m\u001b[0m\u001b[1;33m\u001b[0m\u001b[1;33m\u001b[0m\u001b[0m\n\u001b[1;32m--> 279\u001b[1;33m             raise RemoteDisconnected(\"Remote end closed connection without\"\n\u001b[0m\u001b[0;32m    280\u001b[0m                                      \" response\")\n",
      "\u001b[1;31mProtocolError\u001b[0m: ('Connection aborted.', RemoteDisconnected('Remote end closed connection without response'))",
      "\nDuring handling of the above exception, another exception occurred:\n",
      "\u001b[1;31mConnectionError\u001b[0m                           Traceback (most recent call last)",
      "\u001b[1;32m<ipython-input-16-f73ca0e8dbd5>\u001b[0m in \u001b[0;36m<module>\u001b[1;34m\u001b[0m\n\u001b[0;32m      3\u001b[0m headers = {'user-agenet' : 'Mozilla/5.0 (Windows NT 10.0; Win64; x64) AppleWebKit/537.36 (KHTML, like Gecko) Chrome/86.0.4240.111 Safari/537.36',\n\u001b[0;32m      4\u001b[0m  \"Accept\": \"text/html,application/xhtml+xml,application/xml;q=0.9,image/webp,*/*;q=0.8\"}\n\u001b[1;32m----> 5\u001b[1;33m \u001b[0mresponse\u001b[0m \u001b[1;33m=\u001b[0m \u001b[0mrequests\u001b[0m\u001b[1;33m.\u001b[0m\u001b[0mget\u001b[0m\u001b[1;33m(\u001b[0m\u001b[0mNews_url\u001b[0m\u001b[1;33m,\u001b[0m \u001b[0mheaders\u001b[0m \u001b[1;33m=\u001b[0m \u001b[0mheaders\u001b[0m\u001b[1;33m)\u001b[0m\u001b[1;33m\u001b[0m\u001b[1;33m\u001b[0m\u001b[0m\n\u001b[0m",
      "\u001b[1;32m~\\AppData\\Local\\Programs\\anaconda3\\envs\\Rich\\lib\\site-packages\\requests\\api.py\u001b[0m in \u001b[0;36mget\u001b[1;34m(url, params, **kwargs)\u001b[0m\n\u001b[0;32m     74\u001b[0m \u001b[1;33m\u001b[0m\u001b[0m\n\u001b[0;32m     75\u001b[0m     \u001b[0mkwargs\u001b[0m\u001b[1;33m.\u001b[0m\u001b[0msetdefault\u001b[0m\u001b[1;33m(\u001b[0m\u001b[1;34m'allow_redirects'\u001b[0m\u001b[1;33m,\u001b[0m \u001b[1;32mTrue\u001b[0m\u001b[1;33m)\u001b[0m\u001b[1;33m\u001b[0m\u001b[1;33m\u001b[0m\u001b[0m\n\u001b[1;32m---> 76\u001b[1;33m     \u001b[1;32mreturn\u001b[0m \u001b[0mrequest\u001b[0m\u001b[1;33m(\u001b[0m\u001b[1;34m'get'\u001b[0m\u001b[1;33m,\u001b[0m \u001b[0murl\u001b[0m\u001b[1;33m,\u001b[0m \u001b[0mparams\u001b[0m\u001b[1;33m=\u001b[0m\u001b[0mparams\u001b[0m\u001b[1;33m,\u001b[0m \u001b[1;33m**\u001b[0m\u001b[0mkwargs\u001b[0m\u001b[1;33m)\u001b[0m\u001b[1;33m\u001b[0m\u001b[1;33m\u001b[0m\u001b[0m\n\u001b[0m\u001b[0;32m     77\u001b[0m \u001b[1;33m\u001b[0m\u001b[0m\n\u001b[0;32m     78\u001b[0m \u001b[1;33m\u001b[0m\u001b[0m\n",
      "\u001b[1;32m~\\AppData\\Local\\Programs\\anaconda3\\envs\\Rich\\lib\\site-packages\\requests\\api.py\u001b[0m in \u001b[0;36mrequest\u001b[1;34m(method, url, **kwargs)\u001b[0m\n\u001b[0;32m     59\u001b[0m     \u001b[1;31m# cases, and look like a memory leak in others.\u001b[0m\u001b[1;33m\u001b[0m\u001b[1;33m\u001b[0m\u001b[1;33m\u001b[0m\u001b[0m\n\u001b[0;32m     60\u001b[0m     \u001b[1;32mwith\u001b[0m \u001b[0msessions\u001b[0m\u001b[1;33m.\u001b[0m\u001b[0mSession\u001b[0m\u001b[1;33m(\u001b[0m\u001b[1;33m)\u001b[0m \u001b[1;32mas\u001b[0m \u001b[0msession\u001b[0m\u001b[1;33m:\u001b[0m\u001b[1;33m\u001b[0m\u001b[1;33m\u001b[0m\u001b[0m\n\u001b[1;32m---> 61\u001b[1;33m         \u001b[1;32mreturn\u001b[0m \u001b[0msession\u001b[0m\u001b[1;33m.\u001b[0m\u001b[0mrequest\u001b[0m\u001b[1;33m(\u001b[0m\u001b[0mmethod\u001b[0m\u001b[1;33m=\u001b[0m\u001b[0mmethod\u001b[0m\u001b[1;33m,\u001b[0m \u001b[0murl\u001b[0m\u001b[1;33m=\u001b[0m\u001b[0murl\u001b[0m\u001b[1;33m,\u001b[0m \u001b[1;33m**\u001b[0m\u001b[0mkwargs\u001b[0m\u001b[1;33m)\u001b[0m\u001b[1;33m\u001b[0m\u001b[1;33m\u001b[0m\u001b[0m\n\u001b[0m\u001b[0;32m     62\u001b[0m \u001b[1;33m\u001b[0m\u001b[0m\n\u001b[0;32m     63\u001b[0m \u001b[1;33m\u001b[0m\u001b[0m\n",
      "\u001b[1;32m~\\AppData\\Local\\Programs\\anaconda3\\envs\\Rich\\lib\\site-packages\\requests\\sessions.py\u001b[0m in \u001b[0;36mrequest\u001b[1;34m(self, method, url, params, data, headers, cookies, files, auth, timeout, allow_redirects, proxies, hooks, stream, verify, cert, json)\u001b[0m\n\u001b[0;32m    528\u001b[0m         }\n\u001b[0;32m    529\u001b[0m         \u001b[0msend_kwargs\u001b[0m\u001b[1;33m.\u001b[0m\u001b[0mupdate\u001b[0m\u001b[1;33m(\u001b[0m\u001b[0msettings\u001b[0m\u001b[1;33m)\u001b[0m\u001b[1;33m\u001b[0m\u001b[1;33m\u001b[0m\u001b[0m\n\u001b[1;32m--> 530\u001b[1;33m         \u001b[0mresp\u001b[0m \u001b[1;33m=\u001b[0m \u001b[0mself\u001b[0m\u001b[1;33m.\u001b[0m\u001b[0msend\u001b[0m\u001b[1;33m(\u001b[0m\u001b[0mprep\u001b[0m\u001b[1;33m,\u001b[0m \u001b[1;33m**\u001b[0m\u001b[0msend_kwargs\u001b[0m\u001b[1;33m)\u001b[0m\u001b[1;33m\u001b[0m\u001b[1;33m\u001b[0m\u001b[0m\n\u001b[0m\u001b[0;32m    531\u001b[0m \u001b[1;33m\u001b[0m\u001b[0m\n\u001b[0;32m    532\u001b[0m         \u001b[1;32mreturn\u001b[0m \u001b[0mresp\u001b[0m\u001b[1;33m\u001b[0m\u001b[1;33m\u001b[0m\u001b[0m\n",
      "\u001b[1;32m~\\AppData\\Local\\Programs\\anaconda3\\envs\\Rich\\lib\\site-packages\\requests\\sessions.py\u001b[0m in \u001b[0;36msend\u001b[1;34m(self, request, **kwargs)\u001b[0m\n\u001b[0;32m    641\u001b[0m \u001b[1;33m\u001b[0m\u001b[0m\n\u001b[0;32m    642\u001b[0m         \u001b[1;31m# Send the request\u001b[0m\u001b[1;33m\u001b[0m\u001b[1;33m\u001b[0m\u001b[1;33m\u001b[0m\u001b[0m\n\u001b[1;32m--> 643\u001b[1;33m         \u001b[0mr\u001b[0m \u001b[1;33m=\u001b[0m \u001b[0madapter\u001b[0m\u001b[1;33m.\u001b[0m\u001b[0msend\u001b[0m\u001b[1;33m(\u001b[0m\u001b[0mrequest\u001b[0m\u001b[1;33m,\u001b[0m \u001b[1;33m**\u001b[0m\u001b[0mkwargs\u001b[0m\u001b[1;33m)\u001b[0m\u001b[1;33m\u001b[0m\u001b[1;33m\u001b[0m\u001b[0m\n\u001b[0m\u001b[0;32m    644\u001b[0m \u001b[1;33m\u001b[0m\u001b[0m\n\u001b[0;32m    645\u001b[0m         \u001b[1;31m# Total elapsed time of the request (approximately)\u001b[0m\u001b[1;33m\u001b[0m\u001b[1;33m\u001b[0m\u001b[1;33m\u001b[0m\u001b[0m\n",
      "\u001b[1;32m~\\AppData\\Local\\Programs\\anaconda3\\envs\\Rich\\lib\\site-packages\\requests\\adapters.py\u001b[0m in \u001b[0;36msend\u001b[1;34m(self, request, stream, timeout, verify, cert, proxies)\u001b[0m\n\u001b[0;32m    496\u001b[0m \u001b[1;33m\u001b[0m\u001b[0m\n\u001b[0;32m    497\u001b[0m         \u001b[1;32mexcept\u001b[0m \u001b[1;33m(\u001b[0m\u001b[0mProtocolError\u001b[0m\u001b[1;33m,\u001b[0m \u001b[0msocket\u001b[0m\u001b[1;33m.\u001b[0m\u001b[0merror\u001b[0m\u001b[1;33m)\u001b[0m \u001b[1;32mas\u001b[0m \u001b[0merr\u001b[0m\u001b[1;33m:\u001b[0m\u001b[1;33m\u001b[0m\u001b[1;33m\u001b[0m\u001b[0m\n\u001b[1;32m--> 498\u001b[1;33m             \u001b[1;32mraise\u001b[0m \u001b[0mConnectionError\u001b[0m\u001b[1;33m(\u001b[0m\u001b[0merr\u001b[0m\u001b[1;33m,\u001b[0m \u001b[0mrequest\u001b[0m\u001b[1;33m=\u001b[0m\u001b[0mrequest\u001b[0m\u001b[1;33m)\u001b[0m\u001b[1;33m\u001b[0m\u001b[1;33m\u001b[0m\u001b[0m\n\u001b[0m\u001b[0;32m    499\u001b[0m \u001b[1;33m\u001b[0m\u001b[0m\n\u001b[0;32m    500\u001b[0m         \u001b[1;32mexcept\u001b[0m \u001b[0mMaxRetryError\u001b[0m \u001b[1;32mas\u001b[0m \u001b[0me\u001b[0m\u001b[1;33m:\u001b[0m\u001b[1;33m\u001b[0m\u001b[1;33m\u001b[0m\u001b[0m\n",
      "\u001b[1;31mConnectionError\u001b[0m: ('Connection aborted.', RemoteDisconnected('Remote end closed connection without response'))"
     ]
    }
   ],
   "source": [
    "# naver 헤드라인 뉴스 가져오기 \n",
    "# 막혀서... 가져오기 불가능 \n",
    "News_url = \"https://news.naver.com\"\n",
    "headers = {'user-agenet' : 'Mozilla/5.0 (Windows NT 10.0; Win64; x64) AppleWebKit/537.36 (KHTML, like Gecko) Chrome/86.0.4240.111 Safari/537.36',\n",
    " \"Accept\": \"text/html,application/xhtml+xml,application/xml;q=0.9,image/webp,*/*;q=0.8\"}\n",
    "response = requests.get(News_url, headers = headers)"
   ]
  },
  {
   "cell_type": "code",
   "execution_count": 17,
   "metadata": {},
   "outputs": [],
   "source": [
    "# 크롤링할 웹 사이트 정보\n",
    "base_url = 'https://www.tripadvisor.co.kr'\n",
    "seoul_url = '/Restaurants-g294197-Seoul.html'\n",
    "\n",
    "# get html 이런 경우에는 이미지 정보가 저장되지 않는다. 이렇기 때문에 셀레니움을 사용한다. \n",
    "response = requests.get(base_url+seoul_url)\n",
    "# response.text"
   ]
  },
  {
   "cell_type": "code",
   "execution_count": null,
   "metadata": {},
   "outputs": [],
   "source": [
    "# 맛집 사진 가져오기 \n",
    "lists = soup.findAll('div', {'class' : '_2Hb-Mt7l'}) \n",
    "\n",
    "# for item in lists:\n",
    "#     tem = str(item)\n",
    "print(lists)"
   ]
  }
 ]
}
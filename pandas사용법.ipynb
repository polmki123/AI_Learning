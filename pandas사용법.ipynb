{
 "metadata": {
  "language_info": {
   "codemirror_mode": {
    "name": "ipython",
    "version": 3
   },
   "file_extension": ".py",
   "mimetype": "text/x-python",
   "name": "python",
   "nbconvert_exporter": "python",
   "pygments_lexer": "ipython3",
   "version": "3.8.3-final"
  },
  "orig_nbformat": 2,
  "kernelspec": {
   "name": "Python 3.8.3 64-bit ('base': conda)",
   "display_name": "Python 3.8.3 64-bit ('base': conda)",
   "metadata": {
    "interpreter": {
     "hash": "b21b9d674cf76427cdb9289faa4be5ad4845575c205aabe8acfffa51f4b4cd71"
    }
   }
  }
 },
 "nbformat": 4,
 "nbformat_minor": 2,
 "cells": [
  {
   "cell_type": "code",
   "execution_count": 1,
   "metadata": {},
   "outputs": [],
   "source": [
    "import pandas as pd "
   ]
  },
  {
   "source": [
    "iloc\n",
    "\n",
    ": integer position을 통해 값을 찾는다.\n",
    "\n",
    "​\n",
    "\n",
    "loc\n",
    "\n",
    ": label을 통해서 값을 찾는다.\n",
    "\n",
    "​\n",
    "\n",
    "문법 공통점:\n",
    "\n",
    "df1.loc[[행],[열]]"
   ],
   "cell_type": "code",
   "metadata": {},
   "execution_count": null,
   "outputs": []
  },
  {
   "source": [
    "단순 row만 필터할 땐 둘다 행열에는 숫자를 입력받으므로 동일하게 사용할 수 있다.\n",
    "df1.loc[:2]\n",
    "또는\n",
    "df1.iloc[:2]"
   ],
   "cell_type": "code",
   "metadata": {},
   "execution_count": null,
   "outputs": []
  },
  {
   "source": [
    "column(열)을 필터할때엔 사용법이 각각 다르다.\n",
    "\n",
    "​\n",
    "\n",
    "각각의 샘플을 해보면 다음과 같다"
   ],
   "cell_type": "code",
   "metadata": {},
   "execution_count": null,
   "outputs": []
  },
  {
   "source": [
    "df1.loc[:2, ['Survived', 'Pclass','Name']]"
   ],
   "cell_type": "code",
   "metadata": {},
   "execution_count": null,
   "outputs": []
  },
  {
   "source": [
    "- iloc의 경우\n",
    "df1.iloc[:2,1:4]"
   ],
   "cell_type": "code",
   "metadata": {},
   "execution_count": null,
   "outputs": []
  },
  {
   "cell_type": "code",
   "execution_count": null,
   "metadata": {},
   "outputs": [],
   "source": [
    "Review      = Popcorn_Data[['review']]      # 만약 데이터 프레임 형식으로 열을 하나 추출 하고 싶다면 다음과 같이 [['원하는열']] 처럼 사용한다. "
   ]
  }
 ]
}
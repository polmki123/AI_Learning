{
 "metadata": {
  "language_info": {
   "codemirror_mode": {
    "name": "ipython",
    "version": 3
   },
   "file_extension": ".py",
   "mimetype": "text/x-python",
   "name": "python",
   "nbconvert_exporter": "python",
   "pygments_lexer": "ipython3",
   "version": "3.8.3-final"
  },
  "orig_nbformat": 2,
  "kernelspec": {
   "name": "Python 3.8.3 64-bit ('base': conda)",
   "display_name": "Python 3.8.3 64-bit ('base': conda)",
   "metadata": {
    "interpreter": {
     "hash": "b21b9d674cf76427cdb9289faa4be5ad4845575c205aabe8acfffa51f4b4cd71"
    }
   }
  }
 },
 "nbformat": 4,
 "nbformat_minor": 2,
 "cells": [
  {
   "cell_type": "code",
   "execution_count": 1,
   "metadata": {},
   "outputs": [],
   "source": [
    "import pandas as pd "
   ]
  },
  {
   "source": [
    "iloc\n",
    "\n",
    ": integer position을 통해 값을 찾는다.\n",
    "\n",
    "​\n",
    "\n",
    "loc\n",
    "\n",
    ": label을 통해서 값을 찾는다.\n",
    "\n",
    "​\n",
    "\n",
    "문법 공통점:\n",
    "\n",
    "df1.loc[[행],[열]]"
   ],
   "cell_type": "code",
   "metadata": {},
   "execution_count": null,
   "outputs": []
  },
  {
   "source": [
    "단순 row만 필터할 땐 둘다 행열에는 숫자를 입력받으므로 동일하게 사용할 수 있다.\n",
    "df1.loc[:2]\n",
    "또는\n",
    "df1.iloc[:2]"
   ],
   "cell_type": "code",
   "metadata": {},
   "execution_count": null,
   "outputs": []
  },
  {
   "source": [
    "column(열)을 필터할때엔 사용법이 각각 다르다.\n",
    "\n",
    "​\n",
    "\n",
    "각각의 샘플을 해보면 다음과 같다"
   ],
   "cell_type": "code",
   "metadata": {},
   "execution_count": null,
   "outputs": []
  },
  {
   "source": [
    "df1.loc[:2, ['Survived', 'Pclass','Name']]"
   ],
   "cell_type": "code",
   "metadata": {},
   "execution_count": null,
   "outputs": []
  },
  {
   "source": [
    "- iloc의 경우\n",
    "df1.iloc[:2,1:4]"
   ],
   "cell_type": "code",
   "metadata": {},
   "execution_count": null,
   "outputs": []
  },
  {
   "cell_type": "code",
   "execution_count": null,
   "metadata": {},
   "outputs": [],
   "source": [
    "Review      = Popcorn_Data[['review']]      # 만약 데이터 프레임 형식으로 열을 하나 추출 하고 싶다면 다음과 같이 [['원하는열']] 처럼 사용한다. "
   ]
  },
  {
   "cell_type": "code",
   "execution_count": null,
   "metadata": {},
   "outputs": [],
   "source": [
    "결측값을 특정 값으로 채우기 (replace missing values with scalar value) : df.fillna(0)\n",
    "결측값을 앞 방향 혹은 뒷 방향으로 채우기 (fill gaps forward or backward)\n",
    "      : fillna(method='ffill' or 'pad'), fillna(method='bfill' or 'backfill')\n",
    "\n",
    "결측값 여부 찾기 df.isnull(), isnull(df), df.notnull(), notnull(df)\n"
   ]
  },
  {
   "cell_type": "code",
   "execution_count": null,
   "metadata": {},
   "outputs": [],
   "source": [
    "# 라벨 인코더 사용 법 \n",
    "encoder = LabelEncoder()\n",
    "\n",
    "# X_train데이터를 이용 피팅하고 라벨숫자로 변환한다\n",
    "encoder.fit(X_train)\n",
    "X_train_encoded = encoder.transform(X_train)\n",
    "\n",
    "# 만약 테스트 데이터가 따로 있다면 다음 과 같이 체크 해야 한다. \n",
    "for label in np.unique(X_test):\n",
    "    if label not in encoder.classes_: # unseen label 데이터인 경우( )\n",
    "        encoder.classes_ = np.append(encoder.classes_, label) # 미처리 시 ValueError발생\n",
    "\n",
    "X_test_encoded = encoder.transform(X_test)"
   ]
  },
  {
   "cell_type": "code",
   "execution_count": null,
   "metadata": {},
   "outputs": [],
   "source": [
    "bike_df['datetime'] = bike_df['datetime'].astype('datetime64')\n",
    "\n",
    "# 날짜로 변환 시키는 방법 \n",
    "bike_df['year'] = bike_df['datetime'].dt.year\n",
    "bike_df['month'] = bike_df['datetime'].dt.month\n",
    "bike_df['day'] = bike_df['datetime'].dt.day\n",
    "bike_df['hour'] = bike_df['datetime'].dt.hour\n",
    "bike_df['minute'] = bike_df['datetime'].dt.minute\n",
    "bike_df['second'] = bike_df['datetime'].dt.second\n",
    "bike_df['dayofweek'] = bike_df['datetime'].dt.dayofweek"
   ]
  }
 ]
}